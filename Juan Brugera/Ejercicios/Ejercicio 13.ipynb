{
 "cells": [
  {
   "cell_type": "markdown",
   "metadata": {},
   "source": [
    "# Ejercicio 13\n",
    "\n",
    "## Enunciado\n",
    "Crea un programa que:\n",
    "\n",
    "1. Acceda al [siguiente enlace](https://misssushi.es/localiza-tu-misssushi-mas-cercano/) y obtenga para cada restaurante, su nombre, su dirección, su email y su teléfono.\n",
    "2. Guarde los datos en un fichero de texto con extensión .csv separados por ; para poder visualizarlos en Excel."
   ]
  },
  {
   "cell_type": "markdown",
   "metadata": {},
   "source": [
    "### ¿Qué cosas nuevas necesitamos saber?\n",
    "- Expresiones regulares. La librería **re**.\n",
    "- Leer y guardar ficheros."
   ]
  },
  {
   "cell_type": "markdown",
   "metadata": {},
   "source": [
    "### Expresiones regulares. La librería **re**.\n",
    "\n",
    "Las expresiones regulares son cadenas de texto que conforman patrones de búsqueda. Es decir, mediante un patrón común, podemos encontrar todas aquellas cadenas de texto concuerdan con él.\n",
    "\n",
    "Para ello, hacemos uso de la librería **re**.\n",
    "\n",
    "Veamos un ejemplo sencillo de como utilizarlos:"
   ]
  },
  {
   "cell_type": "code",
   "execution_count": null,
   "metadata": {},
   "outputs": [],
   "source": [
    "patron_texto = r'CARGO DE (.*) EN SU CUENTA BANCARIA' # precediento nuestro str de una r indicamos que es una expresión regular, y por lo tanto\n",
    "# que se ha de respestar tal y como es. Ahora os explico que quiero decir..."
   ]
  },
  {
   "cell_type": "markdown",
   "metadata": {},
   "source": [
    "En el patrón anterior, tenemos 3 elementos que utilizamos en las expresiones regulares o regex:\n",
    "- Los paréntesis \"()\": Sirven para determinar grupos y poder recuperarlos a posteriori. El número del grupo corresponde al orden que ocupa respecto a los demás en la regex. En este caso, dado que solo hay 1, sería el primero.\n",
    "- El punto \".\": Sirve para indicar que ahí puede aparecer cualquier caracter.\n",
    "- El asterisco \"\\*\": Sirve para cuantificar el número de veces que aparece algo (en este caso, como está precedido por un punto, cualquier cosa) e indica que puede aparecer de 0 a infinitas veces.\n",
    "\n",
    "Veamos un ejemplo de como usar nuestra regex:"
   ]
  },
  {
   "cell_type": "code",
   "execution_count": null,
   "metadata": {},
   "outputs": [],
   "source": [
    "# supongamos un extracto bancario con el siguiente aspecto\n",
    "extracto = [\n",
    "\"CARGO DE SPOTIFY EN SU CUENTA BANCARIA\",\n",
    "\"CARGO DE NETFLIX EN SU CUENTA BANCARIA\",\n",
    "\"CARGO DE AMAZON EN SU CUENTA BANCARIA\",\n",
    "\"COMPRA EN MERCADONA\", # ESTA LA VA A IGNORAR\n",
    "\"COMPRA EN ALCAMPO\", # ESTA LO MISMO\n",
    "\"CARGO DE MAPFRE EN SU CUENTA BANCARIA\"\n",
    "]"
   ]
  },
  {
   "cell_type": "code",
   "execution_count": null,
   "metadata": {},
   "outputs": [],
   "source": [
    "import re # importamos nuestra libreia"
   ]
  },
  {
   "cell_type": "code",
   "execution_count": null,
   "metadata": {},
   "outputs": [],
   "source": [
    "patron_compilado = re.compile(patron_texto) # con esto generamos un objeto con el que poder buscar las coincidencias"
   ]
  },
  {
   "cell_type": "code",
   "execution_count": null,
   "metadata": {},
   "outputs": [],
   "source": [
    "# y así, buscamos que cadenas de texto se corresponden con nuestro patrón\n",
    "for apunte in extracto:\n",
    "    # esto devuelve un Match si coincide o None en caso contrario\n",
    "    coincide = patron_compilado.fullmatch(apunte)\n",
    "    if coincide is not None:\n",
    "        print(coincide.string)"
   ]
  },
  {
   "cell_type": "code",
   "execution_count": null,
   "metadata": {},
   "outputs": [],
   "source": [
    "# de manera similar, podemos obtener solo grupos que queramos. En nuestro caso, saber quien nos ha realizado el cargo\n",
    "for apunte in extracto:\n",
    "    # esto devuelve un Match si coincide o None en caso contrario\n",
    "    coincide = patron_compilado.fullmatch(apunte)\n",
    "    if coincide: # asi también se comprueba que algo no es None\n",
    "        print(coincide.group(1))"
   ]
  },
  {
   "cell_type": "markdown",
   "metadata": {},
   "source": [
    "Podéis practicar y aprender más sobre expresiones regulares en varias páginas de internet.\n",
    "\n",
    "A mí, personalmente, me gusta esta: [Regex101](https://regex101.com/)."
   ]
  },
  {
   "cell_type": "markdown",
   "metadata": {},
   "source": [
    "### Leer y guardar ficheros."
   ]
  },
  {
   "cell_type": "markdown",
   "metadata": {},
   "source": [
    "Para leer y escribir ficheros, es tan simple como lo siguiente:"
   ]
  },
  {
   "cell_type": "markdown",
   "metadata": {},
   "source": [
    "#### Para Leer."
   ]
  },
  {
   "cell_type": "code",
   "execution_count": null,
   "metadata": {},
   "outputs": [],
   "source": [
    "# vamos a hacer la prueba con el fichero textos.py que os he mandado antes de comenzar y que debería estar\n",
    "# en la carpeta mislibrerias\n",
    "with open('mislibrerias/textos.py', 'r') as f: # la r es de read\n",
    "    texto = f.read()\n",
    "    f.close()"
   ]
  },
  {
   "cell_type": "code",
   "execution_count": null,
   "metadata": {},
   "outputs": [],
   "source": [
    "# echo esto, podemos comprobar el contenido de la variable texto\n",
    "print(texto)"
   ]
  },
  {
   "cell_type": "markdown",
   "metadata": {},
   "source": [
    "#### Para Guardar."
   ]
  },
  {
   "cell_type": "code",
   "execution_count": null,
   "metadata": {},
   "outputs": [],
   "source": [
    "# ahora guardaremos nuestro texto en otro fichero\n",
    "# al escribir, si usamos w, reemplazamos el fichero en caso de existir\n",
    "with open('mislibrerias/textos2.py', 'w') as f: # la w es de write\n",
    "    f.write(texto)\n",
    "    f.write(\"\\n\") # añadimos un salto de línea para que lo próximo que escribamos este en la siguiente\n",
    "    f.close() # importante hacer el close despues de guardar para poder acceder al fichero"
   ]
  },
  {
   "cell_type": "markdown",
   "metadata": {},
   "source": [
    "Tras ejecutar esto, verás que se ha creado un fichero llamado **textos2.py** en **mislibrerias** con el mismo contenido que **textos.py**.\n",
    "\n",
    "Elimínalo para evitar problemas a la hora de usar librerías."
   ]
  },
  {
   "cell_type": "markdown",
   "metadata": {},
   "source": [
    "Eso es todo a por hoy, a por ello!"
   ]
  },
  {
   "cell_type": "markdown",
   "metadata": {},
   "source": [
    "## Solución"
   ]
  },
  {
   "cell_type": "code",
   "execution_count": null,
   "metadata": {},
   "outputs": [],
   "source": [
    "import requests"
   ]
  },
  {
   "cell_type": "code",
   "execution_count": null,
   "metadata": {},
   "outputs": [],
   "source": [
    "from bs4 import BeautifulSoup"
   ]
  },
  {
   "cell_type": "code",
   "execution_count": null,
   "metadata": {},
   "outputs": [],
   "source": [
    "import re"
   ]
  },
  {
   "cell_type": "code",
   "execution_count": null,
   "metadata": {},
   "outputs": [],
   "source": [
    "from mislibrerias import textos"
   ]
  },
  {
   "cell_type": "markdown",
   "metadata": {},
   "source": [
    "1. Utiliza requests para pedir la página."
   ]
  },
  {
   "cell_type": "code",
   "execution_count": null,
   "metadata": {},
   "outputs": [],
   "source": [
    "url = \"https://misssushi.es/localiza-tu-misssushi-mas-cercano/\""
   ]
  },
  {
   "cell_type": "code",
   "execution_count": null,
   "metadata": {},
   "outputs": [],
   "source": [
    "req = requests.get(url)"
   ]
  },
  {
   "cell_type": "code",
   "execution_count": null,
   "metadata": {},
   "outputs": [],
   "source": [
    "source = req.text"
   ]
  },
  {
   "cell_type": "markdown",
   "metadata": {},
   "source": [
    "2. Inspecciona la página para obtener los resultados con BeautifulSoup y genera una lista para cada fila de nuestro excel donde las posiciones sean las siguientes.\n",
    "- 0: El nombre del restaurante.\n",
    "- 1: La dirección.\n",
    "- 2: El teléfono.\n",
    "- 3: El email.\n",
    "\n",
    "Ten en cuenta que:\n",
    "- No es lo mismo el código de una página que lo que vemos, es decir, puede haber información en el código que no estemos viendo...\n",
    "- En la página que estamos consultado no aparece la información que deseamos, sino el enlace a la información de cada restaurante.\n",
    "- Quizás te resulte útil hacer el proceso a mano para uno de los restaurantes y crear a partir de ello una función para hacer con todos lo mismo de manera automática.\n",
    "\n",
    "Información extra:\n",
    "- Puedes utilizar la función [join()](https://docs.python.org/3/library/stdtypes.html#str.join) de la clase **str** para generar cada registro de nuestro csv.\n",
    "- Aquí tienes un ejemplo de como buscar links dentro de una página web con  y sin expresiones regulares:\n",
    "\n",
    "    ```python\n",
    "    links = [elemento.get('href') for elemento in soup.find_all('a', href=True)] # sin regex, coge todos\n",
    "    links = [elemento.get('href') for elemento in soup.find_all('a', href=re.compile(r'.*ejemplo'))] # con regex, solo las que lo cumplen\n",
    "    ```"
   ]
  },
  {
   "cell_type": "code",
   "execution_count": null,
   "metadata": {},
   "outputs": [],
   "source": [
    "soup = BeautifulSoup(source, \"html\")\n",
    "patron = r'.*restaurantes.*'\n",
    "urls = [elemento.get('href') for elemento in soup.find_all('a', href=re.compile(patron))]"
   ]
  },
  {
   "cell_type": "code",
   "execution_count": null,
   "metadata": {},
   "outputs": [],
   "source": [
    "def info(link):\n",
    "    req2 = requests.get(link)\n",
    "    source2 = req2.text\n",
    "    soup = BeautifulSoup(source2, \"html\")\n",
    "    info = soup.find('div', attrs = {'class': 'info-restaurant-item-info'})\n",
    "    name = textos.clean_str(info.find('h1').text)\n",
    "    address = textos.clean_str(info.find('address').text)\n",
    "    print(address)\n",
    "    phone = textos.clean_str(info.find('div', attrs = {'class': 'phone-link'}).text)\n",
    "    mail = textos.clean_str(info.find('a', href=re.compile(r'mailto.*')).text)\n",
    "    \n",
    "    return [name, address, phone, mail]"
   ]
  },
  {
   "cell_type": "code",
   "execution_count": null,
   "metadata": {},
   "outputs": [],
   "source": [
    "resultado = [info(link) for link in urls]"
   ]
  },
  {
   "cell_type": "code",
   "execution_count": null,
   "metadata": {},
   "outputs": [],
   "source": [
    "with open('prueba.csv', 'w') as f:\n",
    "    f.write(\"Nombre;Dirección;Teléfono;Email\\n\")\n",
    "    for result in resultado:\n",
    "        f.write(\";\".join(result))\n",
    "        f.write(\"\\n\")\n",
    "    f.close()"
   ]
  }
 ],
 "metadata": {
  "kernelspec": {
   "display_name": "Python 3",
   "language": "python",
   "name": "python3"
  },
  "language_info": {
   "codemirror_mode": {
    "name": "ipython",
    "version": 3
   },
   "file_extension": ".py",
   "mimetype": "text/x-python",
   "name": "python",
   "nbconvert_exporter": "python",
   "pygments_lexer": "ipython3",
   "version": "3.7.6"
  }
 },
 "nbformat": 4,
 "nbformat_minor": 4
}
