{
 "cells": [
  {
   "cell_type": "markdown",
   "metadata": {},
   "source": [
    "# Ejercicio 15\n",
    "\n",
    "## Enunciado\n",
    "Crea un programa que:\n",
    "\n",
    "1. Obtenga los datos acerca del COVID-19 de [esta enlance](https://covid19.isciii.es/resources/serie_historica_acumulados.csv).\n",
    "2. Cree una gráfica de barras que muestre el número de casos más reciente en cada CCAA.\n",
    "\n",
    "## Extra\n",
    "3. Crea la misma gráfica ordenada por número de casos de mayor a menor.\n",
    "4. Pinta de color rojo aquellas CCAA con más de 5000 casos."
   ]
  },
  {
   "cell_type": "markdown",
   "metadata": {},
   "source": [
    "### ¿Qué cosas nuevas necesitamos saber?\n",
    "- Ordenando colecciones de objetos. La función **sorted()**.\n",
    "- Los gráficos de barras."
   ]
  },
  {
   "cell_type": "markdown",
   "metadata": {},
   "source": [
    "### Ordenando colecciones de objetos. La función **sorted()**.\n",
    "\n",
    "Como veáimos ayer, existen funciones que nos permiten recorrer una colección de objetos para aplicar una función sobre todos ellos o filtrar.\n",
    "\n",
    "De igual manera, podemos hacer algo similar para ordenar la coleción mediante **sorted()**.\n",
    "\n",
    "Veamos ejemplos:"
   ]
  },
  {
   "cell_type": "code",
   "execution_count": null,
   "metadata": {},
   "outputs": [],
   "source": [
    "numeros = [0, 5, 1, -7, 50, -32, 5, 10, 33]"
   ]
  },
  {
   "cell_type": "code",
   "execution_count": null,
   "metadata": {},
   "outputs": [],
   "source": [
    "# si no le decimos nada, sorted() aplicará el orden normal de los elementos\n",
    "numeros_ordenados = sorted(numeros)\n",
    "print(numeros_ordenados)\n",
    "# como podemos comprobar, en este caso si nos devuelve la lista ordenada"
   ]
  },
  {
   "cell_type": "markdown",
   "metadata": {},
   "source": [
    "Podemos además, pasarle una función que determine el orden.\n",
    "\n",
    "Veamos como ordenar la lista en base al valor absoluto de los números:"
   ]
  },
  {
   "cell_type": "code",
   "execution_count": null,
   "metadata": {},
   "outputs": [],
   "source": [
    "def absoluto(n):\n",
    "    return abs(n)"
   ]
  },
  {
   "cell_type": "code",
   "execution_count": null,
   "metadata": {},
   "outputs": [],
   "source": [
    "# en este caso, veremos los números ordenados independientemente del signo\n",
    "numeros_absolutos = sorted(numeros, key=absoluto)\n",
    "print(numeros_absolutos)\n",
    "\n",
    "# o lo que sería lo mismo\n",
    "numeros_absolutos = sorted(numeros, key=abs)\n",
    "print(numeros_absolutos)"
   ]
  },
  {
   "cell_type": "markdown",
   "metadata": {},
   "source": [
    "Además, podemos ordenar los elementos en el orden inverso pasando el parámetro **reverse** con valor **True**."
   ]
  },
  {
   "cell_type": "code",
   "execution_count": null,
   "metadata": {},
   "outputs": [],
   "source": [
    "# en este caso, veremos los números ordenados independientemente del signo, pero de mayor a menor\n",
    "numeros_absolutos = sorted(numeros, key=absoluto, reverse=True)\n",
    "print(numeros_absolutos)"
   ]
  },
  {
   "cell_type": "markdown",
   "metadata": {},
   "source": [
    "### Los gráficos de barras."
   ]
  },
  {
   "cell_type": "code",
   "execution_count": null,
   "metadata": {},
   "outputs": [],
   "source": [
    "from matplotlib import pyplot as plt\n",
    "%matplotlib inline"
   ]
  },
  {
   "cell_type": "markdown",
   "metadata": {},
   "source": [
    "En este caso, hay poco que explicar. La única diferencia respecto ayer es que, a parte de las X y las Y necesitaremos las etiquetas del eje X.\n",
    "\n",
    "Generemos unos datos aleatorios de muestra:"
   ]
  },
  {
   "cell_type": "code",
   "execution_count": null,
   "metadata": {},
   "outputs": [],
   "source": [
    "etiquetas = ['A', 'B', 'C', 'D', 'E'] # esto serán las etiquetas del eje X\n",
    "x = list(range(len(etiquetas))) # esta la posición de cada una de las barras, del 0 al 4 en este caso\n",
    "y = [57, 65, 32, 40, 95] # y estos los valores de y"
   ]
  },
  {
   "cell_type": "code",
   "execution_count": null,
   "metadata": {},
   "outputs": [],
   "source": [
    "# veamos como pintarlos\n",
    "plt.figure(figsize=(13, 6)) # tamaño del recuadro\n",
    "plt.bar(x, y) # bar para pintar un gráfico de barras\n",
    "plt.title(\"Ejemplo\") # nuestro título\n",
    "plt.xticks(x, etiquetas) # para pintar cada etiqueta en su posición\n",
    "plt.xlabel(\"Etiquetas\") # Nombre del eje X\n",
    "plt.ylabel(\"Valores\") # Nombre del eje Y\n",
    "plt.tight_layout() # para ajustar el gráfico a la figura\n",
    "plt.show()"
   ]
  },
  {
   "cell_type": "code",
   "execution_count": null,
   "metadata": {},
   "outputs": [],
   "source": [
    "# de manera adicional, podemos especificar el color de cada barra generando una lista de colores\n",
    "\n",
    "colores = ['red' if numero % 2 == 0 else 'blue' for numero in y] # rojo pares, azul impares\n",
    "\n",
    "plt.figure(figsize=(13, 6))\n",
    "plt.bar(x, y, color=colores) # añadimos la lista de colores para cada barra\n",
    "plt.title(\"Ejemplo con colores\")\n",
    "plt.xticks(x, etiquetas) \n",
    "plt.xlabel(\"Etiquetas\") \n",
    "plt.ylabel(\"Valores\") \n",
    "plt.tight_layout()\n",
    "plt.show()"
   ]
  },
  {
   "cell_type": "markdown",
   "metadata": {},
   "source": [
    "Como vemos en el ejemplo anterior, en este caso no hemos añadir una leyenda porque no hemos indicar el color para cada plt.bar() si no para cada barra dentro del propio plt.bar().\n",
    "\n",
    "Si deseáramos incluir una leyenda, tendríamos que hacer cada conjunto de elemtos (pares e impares) por separado.\n",
    "\n",
    "No obstante, en este ejercicio, no es necesario añadir leyenda para el Extra, vale con cambiar los colores en función de lo indicado."
   ]
  },
  {
   "cell_type": "markdown",
   "metadata": {},
   "source": [
    "Eso es todo, a por el ejercicio!"
   ]
  },
  {
   "cell_type": "markdown",
   "metadata": {},
   "source": [
    "## Solución"
   ]
  },
  {
   "cell_type": "code",
   "execution_count": null,
   "metadata": {},
   "outputs": [],
   "source": [
    "from matplotlib import pyplot as plt\n",
    "%matplotlib inline\n",
    "\n",
    "import requests\n",
    "from bs4 import BeautifulSoup\n",
    "\n",
    "from datetime import datetime\n",
    "\n",
    "# Códigos ISO de las Comunidades Autónomas. Madrid = MD\n",
    "# ISO | FECHA | CASOS | HOSPITALIZADOS | UCI | FALLECIDOS | RECUPERADOS\n",
    "URL = \"https://covid19.isciii.es/resources/serie_historica_acumulados.csv\""
   ]
  },
  {
   "cell_type": "code",
   "execution_count": null,
   "metadata": {},
   "outputs": [],
   "source": [
    "req = requests.get(URL)\n",
    "raw = req.text\n",
    "\n",
    "def divide(string):\n",
    "    return string.split(',')\n",
    "\n",
    "def convierte_fechas(fila):\n",
    "    return datetime.strptime(fila[1], \"%d/%m/%Y\")\n",
    "\n",
    "def convierte_casos(fila):\n",
    "    if fila[2] == '':\n",
    "        return 0\n",
    "    else:\n",
    "        return int(fila[2])\n",
    "\n",
    "def obtener_ultimos_casos_comunidad(lista_casos):\n",
    "    return lista_casos[-19:]"
   ]
  },
  {
   "cell_type": "code",
   "execution_count": null,
   "metadata": {},
   "outputs": [],
   "source": [
    "lista_raw = raw.splitlines()[1:-2]\n",
    "esp_list = list(map(divide, lista_raw))\n",
    "casos_ES = obtener_ultimos_casos_comunidad(esp_list)"
   ]
  },
  {
   "cell_type": "code",
   "execution_count": null,
   "metadata": {},
   "outputs": [],
   "source": [
    "etiquetas = [item[0] for item in casos_ES] # Me quedo con el primer campo en cada caso, la CCAA\n",
    "x = list(range(len(etiquetas)))\n",
    "y = [int(item[2]) for item in casos_ES] # Me quedo con el tercer campo en cada caso, los contagios\n",
    "\n",
    "plt.figure(figsize=(13, 6))\n",
    "plt.bar(x, y)\n",
    "plt.title(\"Número de casos más reciente por CCAA\")\n",
    "plt.xticks(x, etiquetas) \n",
    "plt.xlabel(\"CCAA\") \n",
    "plt.ylabel(\"Casos\") \n",
    "plt.tight_layout()\n",
    "plt.show()"
   ]
  },
  {
   "cell_type": "code",
   "execution_count": null,
   "metadata": {},
   "outputs": [],
   "source": [
    "def num_casos(list):\n",
    "    return int(list[2])"
   ]
  },
  {
   "cell_type": "code",
   "execution_count": null,
   "metadata": {},
   "outputs": [],
   "source": [
    "casos_ES_ordenados = sorted(casos_ES, key=num_casos, reverse = True)"
   ]
  },
  {
   "cell_type": "code",
   "execution_count": null,
   "metadata": {},
   "outputs": [],
   "source": [
    "etiquetas = [item[0] for item in casos_ES_ordenados] # Me quedo con el primer campo en cada caso, la CCAA\n",
    "x = list(range(len(etiquetas)))\n",
    "y = [int(item[2]) for item in casos_ES_ordenados] # Me quedo con el tercer campo en cada caso, los contagios\n",
    "\n",
    "colors = ['red' if numero > 5000 else 'blue' for numero in y] # rojo si >5000\n",
    "\n",
    "plt.figure(figsize=(13, 6))\n",
    "plt.bar(x, y, color = colors)\n",
    "plt.title(\"Número de casos más reciente por CCAA\")\n",
    "plt.xticks(x, etiquetas) \n",
    "plt.xlabel(\"CCAA\") \n",
    "plt.ylabel(\"Casos\") \n",
    "plt.tight_layout()\n",
    "plt.show()"
   ]
  },
  {
   "cell_type": "code",
   "execution_count": null,
   "metadata": {},
   "outputs": [],
   "source": []
  }
 ],
 "metadata": {
  "kernelspec": {
   "display_name": "Python 3",
   "language": "python",
   "name": "python3"
  },
  "language_info": {
   "codemirror_mode": {
    "name": "ipython",
    "version": 3
   },
   "file_extension": ".py",
   "mimetype": "text/x-python",
   "name": "python",
   "nbconvert_exporter": "python",
   "pygments_lexer": "ipython3",
   "version": "3.7.6"
  }
 },
 "nbformat": 4,
 "nbformat_minor": 4
}
