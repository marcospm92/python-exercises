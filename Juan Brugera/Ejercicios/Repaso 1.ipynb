{
 "cells": [
  {
   "cell_type": "markdown",
   "metadata": {},
   "source": [
    "# Repaso 1\n",
    "\n",
    "En este notebook haremos un ejercicio a modo de repaso de todo (o casi todo) lo aprendido anteriormente. Además, utilizaremos pseudocódigo para tratar de entender una manera de resolver el problema.\n",
    "\n",
    "El enunciado es el siguiente:\n",
    "\n",
    "## Enunciado\n",
    "\n",
    "Pide al usuario que introduzca un número por pantalla y que busque todos los números primos menores que el número y que 500. Una vez hallados, utiliza el mensaje tipo que se da en este notebook e imprime el mensaje en MAYÚSCULAS. Reemplaze en el mensaje lo que esté entre @ por el valor adecuado.\n",
    "\n",
    "Eso es todo, empecemos."
   ]
  },
  {
   "cell_type": "code",
   "execution_count": null,
   "metadata": {},
   "outputs": [],
   "source": [
    "MENSAJE_TIPO = \"El número @numero@ tiene @n@ números primos menores que 500 y son estos: @listaprimos@\""
   ]
  },
  {
   "cell_type": "markdown",
   "metadata": {},
   "source": [
    "Lo primero y más básico, como hemos hecho hasta estos días, será pedir al usuario que introduzca un número por pantalla. Recordad que todo lo que se introduce por el teclado es texto y es por ello que deberemos de hacer la conversión correspondiente:\n",
    "\n",
    "```\n",
    "entrada = pedir_numero_por_pantalla(mensaje_para_pedir_numero)\n",
    "numero_bien = convertir entrada a int\n",
    "```\n",
    "\n",
    "**NOTA**: Como el ejercicio me pide imprimir el número original, no puedo pisar la variable entrada."
   ]
  },
  {
   "cell_type": "markdown",
   "metadata": {},
   "source": [
    "A continuación, evaluemos la situación actual.\n",
    "\n",
    "El número puede ser cualquiera pero el programa me pide que solo le de los números primos menores que 500. \n",
    "\n",
    "¿Tiene entonces sentido que si mi número es mayor que 500 evalue los números que quedan entre 500 y mi número?\n",
    "\n",
    "Claro que no, luego adaptaremos el número a este caso en particular.\n",
    "```\n",
    "si numero_bien es mayor que 500 entonces\n",
    "    nuevo_numero = 500\n",
    "en otro caso entonces\n",
    "    nuevo_numero = numero_bien\n",
    "```"
   ]
  },
  {
   "cell_type": "markdown",
   "metadata": {},
   "source": [
    "Siguiente paso.\n",
    "\n",
    "¿Como determino si un número es primo? Según la definición un número es primo cuando únicamente tiene dos divisores y estos son el **1** y si mismo. \n",
    "\n",
    "**NOTA**: Acorde a la definición, el número **1** no es un número primo.\n",
    "\n",
    "¿Qué podemos deducir de esto?\n",
    "- Tenemos que comprobar si existe algún divisor entre el 1 y el número en cuestión (excluyendo ambos, ya que si lo son).\n",
    "- Si existe un divisor, podemos asegurar que no es primo.\n",
    "\n",
    "Veamos como hacer esto con pseudocódigo.\n",
    "```\n",
    "hay_divisores = Falso # al comienzo del bucle, cuando aún no hemos comprobado nada, no hay divisores\n",
    "el_divisor = 2 # Comenzamos en 2 porque el 0 no se puede comprobar y el 1 ya sabemos que es divisor de todos.\n",
    "\n",
    "mientras hay_divisores es Falso y el_divisor es menor que numero_que_estoy_comprobando:\n",
    "    hay_divisores = El resto de divir numero_que_estoy_comprobando entre el_divisor es 0\n",
    "    el_divisor = el siguiente número a el_divisor\n",
    "\n",
    "si hay_divisores entonces\n",
    "    es_primo = Falso\n",
    "en otro caso\n",
    "    es_primo = Verdad\n",
    "```"
   ]
  },
  {
   "cell_type": "markdown",
   "metadata": {},
   "source": [
    "Ya sabemos como comprobar si un número es primo.\n",
    "\n",
    "Supongamos que todo el bloque de código anterior es la función que se llama **numero_primo()** ya que ahora tenemos que comprobar esto para todos los números entre el número 2 y nuestro número.\n",
    "\n",
    "Para comenzar, deberemos generar todo el conjunto de números que vamos a comprobar. Sabamos que el 500 no es primo porque es par, pero, dado que el número que introduce el usuario lo desconocemos, hemos de asumir que introduzca un número menor de 500.\n",
    "```\n",
    "numeros_a_comprobar = rango de números entre 2 y nuevo_numero+1\n",
    "```\n",
    "\n",
    "Teniendo ya definidos los números que vamos a comprobar, ya solo falta comprobarlos todos y en caso de ser primos, añadirlos a la lista.\n",
    "\n",
    "```\n",
    "resultado = lista vacía\n",
    "para cada numero en numeros_a_comprobar\n",
    "    si numero_primo(numero) entonces\n",
    "        añadir numero a resultado\n",
    "```"
   ]
  },
  {
   "cell_type": "markdown",
   "metadata": {},
   "source": [
    "Ya tenemos lo más complicado hecho, solo queda imprimer el resultado acorde al mensaje tipo.\n",
    "\n",
    "```\n",
    "cuantos_numeros_primos = longitud del resultado convertido a texto\n",
    "lista_en_formato_texto = convertir resultado a texto\n",
    "\n",
    "mensaje_paso_1 = reemplazar @numero@ por numero en el MENSAJE_TIPO\n",
    "mensaje_paso_2 = reemplazar @n@ por cuantos_numeros_primos en el paso anterior\n",
    "mensaje_paso_3 = reemplazar @listaprimos@ por lista_en_formato_texto en el paso anterior\n",
    "mensaje_paso_4 = poner el paso anterior en mayúsculas\n",
    "\n",
    "imprimir(mensaje_paso_4)\n",
    "```"
   ]
  },
  {
   "cell_type": "markdown",
   "metadata": {},
   "source": [
    "Con esto ya tendríamos todo. Ánimo a la hora de plasmarlo en código!"
   ]
  },
  {
   "cell_type": "markdown",
   "metadata": {},
   "source": [
    "## Solución"
   ]
  },
  {
   "cell_type": "code",
   "execution_count": null,
   "metadata": {},
   "outputs": [],
   "source": [
    "entrada = input(\"Introduce el número a comprobar: \")\n",
    "entrada_int = int(entrada)"
   ]
  },
  {
   "cell_type": "code",
   "execution_count": null,
   "metadata": {},
   "outputs": [],
   "source": [
    "if entrada_int > 500:\n",
    "    numero = 500\n",
    "else:\n",
    "    numero = entrada_int"
   ]
  },
  {
   "cell_type": "code",
   "execution_count": null,
   "metadata": {},
   "outputs": [],
   "source": [
    "resultado = []\n",
    "es_primo = False\n",
    "\n",
    "for num in range(2,numero+1):\n",
    "    hay_divisores = False\n",
    "    div = 2\n",
    "    while hay_divisores is False and div < num:\n",
    "        hay_divisores = (num % div == 0)\n",
    "        div += 1\n",
    "    if hay_divisores is False:\n",
    "        resultado.append(num)\n",
    "    "
   ]
  },
  {
   "cell_type": "code",
   "execution_count": null,
   "metadata": {},
   "outputs": [],
   "source": [
    "print(resultado)"
   ]
  },
  {
   "cell_type": "code",
   "execution_count": null,
   "metadata": {},
   "outputs": [],
   "source": [
    "cantidad_primos = str(len(resultado))\n",
    "lista_txt = str(resultado)\n",
    "\n",
    "mensaje_1 = MENSAJE_TIPO.replace(\"@numero@\", entrada)\n",
    "mensaje_2 = mensaje_1.replace(\"@n@\", cantidad_primos)\n",
    "mensaje_3 = mensaje_2.replace(\"@listaprimos@\", lista_txt)\n",
    "mensaje_4 = mensaje_3.upper()\n",
    "\n",
    "print(mensaje_4)"
   ]
  }
 ],
 "metadata": {
  "kernelspec": {
   "display_name": "Python 3",
   "language": "python",
   "name": "python3"
  },
  "language_info": {
   "codemirror_mode": {
    "name": "ipython",
    "version": 3
   },
   "file_extension": ".py",
   "mimetype": "text/x-python",
   "name": "python",
   "nbconvert_exporter": "python",
   "pygments_lexer": "ipython3",
   "version": "3.7.4"
  }
 },
 "nbformat": 4,
 "nbformat_minor": 4
}
