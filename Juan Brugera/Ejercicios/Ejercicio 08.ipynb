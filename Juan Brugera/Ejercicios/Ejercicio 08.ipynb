{
 "cells": [
  {
   "cell_type": "markdown",
   "metadata": {},
   "source": [
    "# Ejercicio 8\n",
    "\n",
    "## Enunciado\n",
    "Crea un programa que:\n",
    "\n",
    "1. Juegue a piedra (r), papel (p) o tijera (s) contra el usuario e implmenta el código con funciones.\n",
    "\n",
    "## Extras\n",
    "\n",
    "1. Trata de resolver el ejercicio por ti mismo, utilizando la función **choice()** de la libería [random.](https://docs.python.org/3/library/random.html)\n",
    "\n",
    "## Aclaraciones\n",
    "1. Piedra gana a Tijera, Tijera a Papel y Papel a Piedra.\n",
    "2. El programa ha de ser resistente a fallos."
   ]
  },
  {
   "cell_type": "markdown",
   "metadata": {},
   "source": [
    "### ¿Qué cosas nuevas necesitamos saber?\n",
    "- El uso de librerías. La librería **random**. La función **randint()**.\n",
    "- Como crear funciones."
   ]
  },
  {
   "cell_type": "markdown",
   "metadata": {},
   "source": [
    "### El uso de librerías. La librería **random**. La función **randint()**.\n",
    "\n",
    "- ¿Qué es una librería?\n",
    "\n",
    "Una librería es un código ya creado que podemos importar en nuestro código para utilizar. Para ello, se utiliza la palabra reservada **import** y por conveniencia, se realizan todos los imports necesario al inicio de nuestro código.\n",
    "\n",
    "Python viene con librerías preinstaladas pero además encontraremos una infinidad de ellas en [PyPi](https://pypi.org/) así como su documentación y como instalarla (que es tan siemple como utilizar la sentencia pip install seguida del nombre de la librería).\n",
    "\n",
    "- La librería **random**.\n",
    "\n",
    "Como su propio nombre indica, la librería random nos permite generar elementos de manera aleatoria. Para poder utilizarla, incluiremos este código al principio del nuestro:\n",
    "```python\n",
    "import random\n",
    "```\n",
    "\n",
    "- La función **randint()**.\n",
    "\n",
    "La función randint() es aquella que dada 2 elementos x, y del tipo int (de ahí su nombre) nos devuelve un valor n tal que x <= n <= y.\n",
    "\n",
    "Veamos algunos ejemplos:"
   ]
  },
  {
   "cell_type": "code",
   "execution_count": null,
   "metadata": {},
   "outputs": [],
   "source": [
    "# Lo primero, como hemos comentado, importar la libreria\n",
    "# solo hace falta importarla una vez, no es necesario hacerlo en cada celda que lo usemos\n",
    "import random"
   ]
  },
  {
   "cell_type": "code",
   "execution_count": null,
   "metadata": {},
   "outputs": [],
   "source": [
    "# Ahora veamos algunos ejemplos. Cada vez que ejecutes esta celda, dará valores distintos\n",
    "print(random.randint(0, 4)) # esto genera un número entre 0 y 4 (incluidos) y lo imprime"
   ]
  },
  {
   "cell_type": "code",
   "execution_count": null,
   "metadata": {},
   "outputs": [],
   "source": [
    "# Ahora veamos algunos ejemplos. Cada vez que ejecutes esta celda, dará valores distintos\n",
    "print(random.randint(-5, 0)) # esto genera un número entre -5 y 0 (incluidos) y lo imprime"
   ]
  },
  {
   "cell_type": "code",
   "execution_count": null,
   "metadata": {},
   "outputs": [],
   "source": [
    "# Ahora veamos algunos ejemplos. Cada vez que ejecutes esta celda, dará valores distintos\n",
    "print(random.randint(-5, 10)) # esto genera un número entre -5 y 10 (incluidos) y lo imprime"
   ]
  },
  {
   "cell_type": "code",
   "execution_count": null,
   "metadata": {},
   "outputs": [],
   "source": [
    "# Ahora veamos algunos ejemplos. Cada vez que ejecutes esta celda, dará valores distintos\n",
    "print(random.randint(5, -5)) # esto falla porque el primer número ha de ser menor que el segundo"
   ]
  },
  {
   "cell_type": "code",
   "execution_count": null,
   "metadata": {},
   "outputs": [],
   "source": [
    "# podemos hacer lo mismo para guardarlo en una variable\n",
    "x = random.randint(0, 10) # guardamos el valor en x\n",
    "print(x) # y lo imprimimos"
   ]
  },
  {
   "cell_type": "code",
   "execution_count": null,
   "metadata": {},
   "outputs": [],
   "source": [
    "# podemos utilizar la funcion randint() para tomar un valor aleatorio de una lista de opciones\n",
    "opciones = [\"a\", \"b\", \"c\"]\n",
    "final = len(opciones) - 1\n",
    "eleccion = random.randint(0, final)\n",
    "print(opciones[eleccion])"
   ]
  },
  {
   "cell_type": "markdown",
   "metadata": {},
   "source": [
    "### Como crear funciones.\n",
    "\n",
    "Si vamos a utlizar un código varias veces, por simplicidad y para evitar errores, podemos crear una función que realice ese código.\n",
    "\n",
    "Para ello utilizaremos la palabra reservada **def**.\n",
    "\n",
    "El cuerpo de nuestra función ha de ser de la siguiente manera:\n",
    "```python\n",
    "def mi_funcion(p1, p2, ...):\n",
    "    # código de mi función\n",
    "    return lo_que_devuelve_mi_funcion\n",
    "```\n",
    "\n",
    "Dónde p1, p2, etc. son todos los parámetros que necesitamos para realizar nuesta función.\n",
    "\n",
    "Veamos un par de ejemplos:"
   ]
  },
  {
   "cell_type": "code",
   "execution_count": null,
   "metadata": {},
   "outputs": [],
   "source": [
    "# esta funcion devuelve la suma de n1 y n2\n",
    "def suma(n1, n2):\n",
    "    return n1 + n2"
   ]
  },
  {
   "cell_type": "code",
   "execution_count": null,
   "metadata": {},
   "outputs": [],
   "source": [
    "# para usarla solo tenemos que llamarla con los valores que deseemos\n",
    "print(suma(1, 2)) # esto imprime 3\n",
    "\n",
    "x = suma(10, 20)\n",
    "print(x) # esto imprime x, que es el resultado de sumar 10 y 20"
   ]
  },
  {
   "cell_type": "code",
   "execution_count": null,
   "metadata": {},
   "outputs": [],
   "source": [
    "# podemos hacer funciones haciendo uso de otras funciones, por ejemplo\n",
    "# esta función devuelve True si el número es par\n",
    "def es_par(n):\n",
    "    return n % 2 == 0\n",
    "\n",
    "# esta función devuelve True si n es impar y para ello lo que comprueba es que no sea par\n",
    "def es_impar(n):\n",
    "    return not es_par(n)"
   ]
  },
  {
   "cell_type": "code",
   "execution_count": null,
   "metadata": {},
   "outputs": [],
   "source": [
    "print(es_par(2)) # True\n",
    "print(es_par(3)) # False\n",
    "\n",
    "print(\"-----\")\n",
    "\n",
    "x = es_par(4)\n",
    "print(x) # True\n",
    "\n",
    "print(\"-----\")\n",
    "\n",
    "print(es_impar(3)) # True\n",
    "print(es_impar(4)) # False"
   ]
  },
  {
   "cell_type": "markdown",
   "metadata": {},
   "source": [
    "En nuestros ejemplos, las funciones solo tienen el return, pero una función puede contener todo el código que deseemos.\n",
    "\n",
    "Eso es todo por hoy. **COMENCEMOS!!**"
   ]
  },
  {
   "cell_type": "markdown",
   "metadata": {},
   "source": [
    "## Solución"
   ]
  },
  {
   "cell_type": "markdown",
   "metadata": {},
   "source": [
    "1. Crea tres funciones\n",
    "    - La primera que pida al usuario su elección por pantalla y continue mientras la opción no sea válida.\n",
    "    - La segunda, la que genera la elección de la máquina.\n",
    "    - La tercera, la que diga quien ha ganado.\n",
    "    \n",
    "**NOTA**: Acuerdate de devolver lo propio en cada función"
   ]
  },
  {
   "cell_type": "code",
   "execution_count": null,
   "metadata": {},
   "outputs": [],
   "source": [
    "import random\n",
    "opciones = [\"r\", \"p\", \"s\"]\n",
    "\n",
    "def pide_eleccion():\n",
    "    ok = False\n",
    "    while ok is False:\n",
    "        eleccion = input(\"Elige (r, p, s): \").lower()\n",
    "        if eleccion not in opciones:\n",
    "            print(\"Sólo se puede escoger entre r, p y s\")\n",
    "            ok = False\n",
    "        else:\n",
    "            ok = True\n",
    "    return eleccion\n",
    "\n",
    "def genera_eleccion():\n",
    "    x = random.randint(0, 2)\n",
    "    maquina = opciones[x]\n",
    "    return maquina\n",
    "\n",
    "def partida(jugador, consola):\n",
    "    combinaciones = {\n",
    "        \"pp\": 0,\n",
    "        \"pr\": 1,\n",
    "        \"ps\": 2,\n",
    "        \"rp\": 2,\n",
    "        \"rr\": 0,\n",
    "        \"rs\": 1,\n",
    "        \"sp\": 1,\n",
    "        \"sr\": 2,\n",
    "        \"ss\": 0 \n",
    "    }\n",
    "    \n",
    "    combi = jugador + consola\n",
    "    result = combinaciones.get(combi)\n",
    "    if result == 1:\n",
    "        result_text = \"Gana el jugador 1\"\n",
    "    elif result == 2:\n",
    "        result_text = \"Gana el jugador 2\"\n",
    "    elif result == 0:\n",
    "        result_text = \"Hay empate\"\n",
    "    return result_text"
   ]
  },
  {
   "cell_type": "markdown",
   "metadata": {},
   "source": [
    "2. Ejecuta las funciones y comprueba que el resultado es el correcto."
   ]
  },
  {
   "cell_type": "code",
   "execution_count": null,
   "metadata": {},
   "outputs": [],
   "source": [
    "p1 = pide_eleccion()\n",
    "p2 = genera_eleccion()\n",
    "\n",
    "print(p1)\n",
    "print(p2)"
   ]
  },
  {
   "cell_type": "code",
   "execution_count": null,
   "metadata": {},
   "outputs": [],
   "source": [
    "partida(p1, p2)"
   ]
  },
  {
   "cell_type": "markdown",
   "metadata": {},
   "source": [
    "3. Muestra el resultado por pantalla al usuario indicando quién ha ganado y por qué."
   ]
  },
  {
   "cell_type": "code",
   "execution_count": null,
   "metadata": {},
   "outputs": [],
   "source": [
    "Resuelto antes"
   ]
  },
  {
   "cell_type": "code",
   "execution_count": null,
   "metadata": {},
   "outputs": [],
   "source": []
  },
  {
   "cell_type": "code",
   "execution_count": null,
   "metadata": {},
   "outputs": [],
   "source": []
  },
  {
   "cell_type": "markdown",
   "metadata": {},
   "source": [
    "4. A por el extra."
   ]
  },
  {
   "cell_type": "code",
   "execution_count": null,
   "metadata": {},
   "outputs": [],
   "source": [
    "def genera_eleccion_2():\n",
    "    return random.choice(opciones)"
   ]
  },
  {
   "cell_type": "code",
   "execution_count": null,
   "metadata": {},
   "outputs": [],
   "source": [
    "El resto del programa sería igual"
   ]
  },
  {
   "cell_type": "code",
   "execution_count": null,
   "metadata": {},
   "outputs": [],
   "source": []
  }
 ],
 "metadata": {
  "kernelspec": {
   "display_name": "Python 3",
   "language": "python",
   "name": "python3"
  },
  "language_info": {
   "codemirror_mode": {
    "name": "ipython",
    "version": 3
   },
   "file_extension": ".py",
   "mimetype": "text/x-python",
   "name": "python",
   "nbconvert_exporter": "python",
   "pygments_lexer": "ipython3",
   "version": "3.7.4"
  }
 },
 "nbformat": 4,
 "nbformat_minor": 4
}
