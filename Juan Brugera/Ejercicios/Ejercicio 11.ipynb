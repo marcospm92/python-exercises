{
 "cells": [
  {
   "cell_type": "markdown",
   "metadata": {},
   "source": [
    "# Ejercicio 11\n",
    "\n",
    "## Enunciado\n",
    "Crea un programa que:\n",
    "\n",
    "1. Pida al usuario una fórmula matemática e indique si está formada correctamente a nivel de paréntesis mediante funciones recursivas.\n",
    "\n",
    "## Extras\n",
    "2. Indica por qué la fórmula no es correcta.\n",
    "\n",
    "### Ejemplos de lo que se nos solicita:\n",
    "1. x + 1 -> Es correcto\n",
    "2. (x + y) -> Es correcto\n",
    "3. ((x + 2) -> No lo es (faltan paréntesis de cierre)\n",
    "4. (x + 2)) -> No lo es (sobran paréntesis de cierre)\n",
    "5. )x + 2() -> No lo es (se cierran paréntesis antes de haberlos abierto)"
   ]
  },
  {
   "cell_type": "markdown",
   "metadata": {},
   "source": [
    "### ¿Qué cosas nuevas necesitamos saber?\n",
    "Hoy no necistamos aprender el uso de nada nuevo. No obstante, os voy a indicar como incluir el valor de un método por defecto.\n",
    "\n",
    "Para ello recordemos la función de los ejemplos de ayer con nombre ***lista_pares_recursiva()***. Como podéis comprobar, el uso que hacíamos de esta función era siempre pasando como segundo parámeto [].\n",
    "\n",
    "Podemos ahorranos este paso de la siguiente manera:\n",
    "```python\n",
    "def lista_pares_recursiva(n, lista=[]):\n",
    "    if n == 0:\n",
    "        lista.append(n)\n",
    "        return lista\n",
    "    else:\n",
    "        if es_par(n):\n",
    "            lista.append(n)\n",
    "        return lista_pares_recursiva(n-1, lista)\n",
    "```\n",
    "Como se puede apreciar, hemos modificado nuestro segundo parámetro ***lista*** para que tome por defecto el valor []. Es por ello que nuestra llamada a la función podremos hacer de la siguiente manera:\n",
    "```python3\n",
    "lista_pares_recursiva(10)\n",
    "```\n",
    "\n",
    "En cualquier caso, es importante indicar el parámetro de forma explícita en las llamadas recursivas ya que si no la función siempre se ejecutará con el valor por defecto y en alguno casos podría dar lugar a comportamientos no deseados.\n",
    "\n",
    "Vemos lo indicado."
   ]
  },
  {
   "cell_type": "code",
   "execution_count": null,
   "metadata": {},
   "outputs": [],
   "source": [
    "def lista_pares_recursiva(n, lista=[]): # Declaro [] como valor por defecto de lista\n",
    "    if n == 0:\n",
    "        lista.append(n)\n",
    "        return lista\n",
    "    else:\n",
    "        if n % 2 == 0:\n",
    "            lista.append(n)\n",
    "        return lista_pares_recursiva(n-1, lista)"
   ]
  },
  {
   "cell_type": "code",
   "execution_count": null,
   "metadata": {},
   "outputs": [],
   "source": [
    "lista_pares_recursiva(10) # ejecuto la función sin pasarle tal parámetro"
   ]
  },
  {
   "cell_type": "markdown",
   "metadata": {},
   "source": [
    "## Solución"
   ]
  },
  {
   "cell_type": "markdown",
   "metadata": {},
   "source": [
    "1. Crea una función recursiva que comprueba si una fórmula matemática es correcta en cuanto a la disposición de los paréntesis.\n",
    "\n",
    "**NOTA**: Te resultará útil el uso de diccionarios y el como obtener un valor por defecto."
   ]
  },
  {
   "cell_type": "code",
   "execution_count": null,
   "metadata": {},
   "outputs": [],
   "source": [
    "parentesis = {\n",
    "    '(': 1,\n",
    "    ')': -1\n",
    "}"
   ]
  },
  {
   "cell_type": "code",
   "execution_count": null,
   "metadata": {},
   "outputs": [],
   "source": [
    "def comprueba_formula(formula, n = 0):\n",
    "    if not formula:\n",
    "        return n\n",
    "    elif n < 0:\n",
    "        return n\n",
    "    else:\n",
    "        return comprueba_formula(formula[1:], n + parentesis.get(formula[0], 0))\n"
   ]
  },
  {
   "cell_type": "markdown",
   "metadata": {},
   "source": [
    "2. Pide al usuario una forma matemática."
   ]
  },
  {
   "cell_type": "code",
   "execution_count": null,
   "metadata": {},
   "outputs": [],
   "source": [
    "from mislibrerias import entradas\n",
    "\n",
    "formula = entradas.get_str(\"Introduce una fórmula: \")\n",
    "n = comprueba_formula(formula)"
   ]
  },
  {
   "cell_type": "markdown",
   "metadata": {},
   "source": [
    "3. Indica si está bien formada y, en caso de realizar el extra, indícale por qué no en caso contrario."
   ]
  },
  {
   "cell_type": "code",
   "execution_count": null,
   "metadata": {},
   "outputs": [],
   "source": [
    "if n == 0:\n",
    "    print(\"Es correcta\")\n",
    "elif n < 0:\n",
    "    print(\"Es incorrecta. Tiene ')' de más, o cierra algún paréntesis antes de abrirlo\")\n",
    "elif n > 0:\n",
    "    print(\"Es incorrecta. Tiene '(' de más\")"
   ]
  }
 ],
 "metadata": {
  "kernelspec": {
   "display_name": "Python 3",
   "language": "python",
   "name": "python3"
  },
  "language_info": {
   "codemirror_mode": {
    "name": "ipython",
    "version": 3
   },
   "file_extension": ".py",
   "mimetype": "text/x-python",
   "name": "python",
   "nbconvert_exporter": "python",
   "pygments_lexer": "ipython3",
   "version": "3.7.4"
  }
 },
 "nbformat": 4,
 "nbformat_minor": 4
}
