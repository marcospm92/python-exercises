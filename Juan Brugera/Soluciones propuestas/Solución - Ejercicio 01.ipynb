{
 "cells": [
  {
   "cell_type": "markdown",
   "metadata": {},
   "source": [
    "# Ejercicio 1\n",
    "## Enunciado\n",
    "Crea un programa que:\n",
    "1. Le pregunte al usuario cuál es su nombre.\n",
    "2. Le pregunte al usuario cuál es su edad.\n",
    "3. Salude al usuario y le indique cual será su edad dentro de 100 años."
   ]
  },
  {
   "cell_type": "markdown",
   "metadata": {},
   "source": [
    "## Antes de empezar\n",
    "Antes de comenzar vamos a aprender los conocimientos que nos lleverán a lograr nuestro objetivo"
   ]
  },
  {
   "cell_type": "markdown",
   "metadata": {},
   "source": [
    "### ¿Qué es una variable y cómo le asigno un valor?\n",
    "Una variable es un espacio reservado en la memoria del programa con la finalidad de preservar un valor determinado en la misma mientras la ejecuón de nuestro código este en curso.\n",
    "\n",
    "Para asignarle un valor, tan solo nos tenemos que valer del operador '=' como se detalla en el siguiente ejemplo:\n",
    "\n",
    "```python\n",
    "# Esto asigna el valor 3 a la variable x\n",
    "x = 3\n",
    "```"
   ]
  },
  {
   "cell_type": "markdown",
   "metadata": {},
   "source": [
    "### Las funciones input() print() y type()\n",
    "- La función input() es el método que nos permite introducir al programa un valor desde nuestro teclado y, si lo deseamos, asignárselo a una variable.\n",
    "- La función print() es el método que, dada una variable, nos muestra por pantalla su valor.\n",
    "- La función type() es el método que, dada una variable, nos indica cual es su tipo."
   ]
  },
  {
   "cell_type": "markdown",
   "metadata": {},
   "source": [
    "### Tipos de variables\n",
    "En este ejercicio utilizaremos dos de los pricipales tipos de variables que existen en Python:\n",
    "- str: Hace referencia a cadenas de texto como pudieran ser \"Juan\" o \"Ayer me comí un helado\"\n",
    "- int: Hace referencia a números enteros, como pudieran ser los números -317, 0, 4 ó 5322"
   ]
  },
  {
   "cell_type": "markdown",
   "metadata": {},
   "source": [
    "### Comentarios\n",
    "Como puedes comprobar si seleccionas una de estas celdas, se tratan de celdas de tipo Markdown (puedes verlo en la parte superior derecha de esta ventana), que sirven para introducir texto.\n",
    "\n",
    "Si quieres saber más acerca del formato Markdown, visita [este enlace](https://es.wikipedia.org/wiki/Markdown)\n",
    "\n",
    "No obstante, tambíen puedes introducir comentarios en tu código (celdas del tipo _Code_) utilizando el carácter especial \\#"
   ]
  },
  {
   "cell_type": "markdown",
   "metadata": {},
   "source": [
    "Vamos a ilustrar lo expuesto en los párrafos anteriores:"
   ]
  },
  {
   "cell_type": "code",
   "execution_count": null,
   "metadata": {},
   "outputs": [],
   "source": [
    "numero = 3 # así es como se crea una variable cuyo nombre es numero y su valor es el número entero 3"
   ]
  },
  {
   "cell_type": "code",
   "execution_count": null,
   "metadata": {},
   "outputs": [],
   "source": [
    "type(numero) # así es como comprobamos que el valor de la variable numero es del tipo int"
   ]
  },
  {
   "cell_type": "code",
   "execution_count": null,
   "metadata": {},
   "outputs": [],
   "source": [
    "palabra = \"helado\" # así es como se crea una variable cuyo nombre es palabra y su valor es la palabra \"helado\""
   ]
  },
  {
   "cell_type": "code",
   "execution_count": null,
   "metadata": {},
   "outputs": [],
   "source": [
    "type(palabra) # y, de manera análoga, así es como comprobamos que la variable palabra se trata de un str"
   ]
  },
  {
   "cell_type": "code",
   "execution_count": null,
   "metadata": {},
   "outputs": [],
   "source": [
    "print(numero) # así es como comprobamos el valor asignado a la variable numero"
   ]
  },
  {
   "cell_type": "code",
   "execution_count": null,
   "metadata": {},
   "outputs": [],
   "source": [
    "print(palabra) # así es como comprobarmos el valor asignado a la variable palabra"
   ]
  },
  {
   "cell_type": "code",
   "execution_count": null,
   "metadata": {},
   "outputs": [],
   "source": [
    "x = input(\"Escribe lo que te apetezca: \") \n",
    "# de esta manera le pedimos al usuario que introduza un valor mediante el teclado y que lo almacene en \n",
    "# la variable x. El texo introducido entre los paréntesis ha de ir entrecomillado y será el mensaje \n",
    "# que el usuario vea en la pantalla"
   ]
  },
  {
   "cell_type": "code",
   "execution_count": null,
   "metadata": {},
   "outputs": [],
   "source": [
    "type(x) # una vez más, comprobamos el tipo"
   ]
  },
  {
   "cell_type": "code",
   "execution_count": null,
   "metadata": {},
   "outputs": [],
   "source": [
    "print(x) # y su valor"
   ]
  },
  {
   "cell_type": "markdown",
   "metadata": {},
   "source": [
    "### Conversiones de tipos y Operaciones binarias\n",
    "Ya solo nos queda una cosa antes de empezar y se trata de diferenciar los tipos de las variables así como adecuarlos a nuestros requerimientos.\n",
    "\n",
    "Por ejemplo, mientras que _3_ es un valor de tipo **int** _\"3\"_ es un valor de tipo **str** que representa al número 3.\n",
    "\n",
    "Ilustremos esto cón código:"
   ]
  },
  {
   "cell_type": "code",
   "execution_count": null,
   "metadata": {},
   "outputs": [],
   "source": [
    "y = 3 # este es un entero\n",
    "z = \"3\" # este es un str"
   ]
  },
  {
   "cell_type": "code",
   "execution_count": null,
   "metadata": {},
   "outputs": [],
   "source": [
    "type(y) # comrpobamos el tipo de y"
   ]
  },
  {
   "cell_type": "code",
   "execution_count": null,
   "metadata": {},
   "outputs": [],
   "source": [
    "type(z) # comprobamos el tipo de z"
   ]
  },
  {
   "cell_type": "markdown",
   "metadata": {},
   "source": [
    "Como podemos comprobar, los tipos de _y_ y _z_ son distintos y por ello no podemos realizar operaciones entre ellos pero si consigo mismos.\n",
    "\n",
    "Veamos:"
   ]
  },
  {
   "cell_type": "code",
   "execution_count": null,
   "metadata": {},
   "outputs": [],
   "source": [
    "print(y + y) # esto es 3 + 3 -> 6"
   ]
  },
  {
   "cell_type": "code",
   "execution_count": null,
   "metadata": {},
   "outputs": [],
   "source": [
    "print(z + z) # esto es \"3\" + \"3\" -> \"33\""
   ]
  },
  {
   "cell_type": "code",
   "execution_count": null,
   "metadata": {},
   "outputs": [],
   "source": [
    "print(y + z) # esto es 3 + \"3\" -> ERROR!! No podemos utilizar la operación + entre un int y un str"
   ]
  },
  {
   "cell_type": "markdown",
   "metadata": {},
   "source": [
    "Para solucionar esto y poder sumar y + z es necesario convertir z en un entero mediante la función int():"
   ]
  },
  {
   "cell_type": "code",
   "execution_count": null,
   "metadata": {},
   "outputs": [],
   "source": [
    "print(y + int(z)) # podemos hacerlo directamente así"
   ]
  },
  {
   "cell_type": "code",
   "execution_count": null,
   "metadata": {},
   "outputs": [],
   "source": [
    "# o sobreescribiendo el valor de la variable z por su conversión a int\n",
    "z = int(z)\n",
    "\n",
    "print(y+z)"
   ]
  },
  {
   "cell_type": "code",
   "execution_count": null,
   "metadata": {},
   "outputs": [],
   "source": [
    "type(z) # podemos comprobar que ahora es un int"
   ]
  },
  {
   "cell_type": "code",
   "execution_count": null,
   "metadata": {},
   "outputs": [],
   "source": [
    "z = str(z)\n",
    "type(z) # o volverlo a convertir a str si queremos"
   ]
  },
  {
   "cell_type": "markdown",
   "metadata": {},
   "source": [
    "### Empecemos!!\n",
    "Ahora si estamos en condiciones de empezar, pero, dado que es nuestro primer ejercicio os daré un par de pistas:\n",
    "- El tipo devuelto por la función input(), dado lo que se introduce es una cadena de texto desde el teclado, siempre es del tipo str.\n",
    "- Como hemos visto, el operador + sirve para concatenar cadenas de texto, pero recordad que todos los elementos a concatenar han de ser del tipo str o dará error.\n",
    "\n",
    "**Suerte**"
   ]
  },
  {
   "cell_type": "markdown",
   "metadata": {},
   "source": [
    "## Solución"
   ]
  },
  {
   "cell_type": "markdown",
   "metadata": {},
   "source": [
    "1. Pide al usuario su nombre."
   ]
  },
  {
   "cell_type": "code",
   "execution_count": null,
   "metadata": {},
   "outputs": [],
   "source": [
    "nombre = input(\"Dime como te llamas: \")"
   ]
  },
  {
   "cell_type": "markdown",
   "metadata": {},
   "source": [
    "2. Pide al usuario su edad."
   ]
  },
  {
   "cell_type": "code",
   "execution_count": null,
   "metadata": {},
   "outputs": [],
   "source": [
    "edad = input(\"Cuántos años tienes? : \")"
   ]
  },
  {
   "cell_type": "markdown",
   "metadata": {},
   "source": [
    "3. Calcula su edad dentro de 100 años."
   ]
  },
  {
   "cell_type": "code",
   "execution_count": null,
   "metadata": {},
   "outputs": [],
   "source": [
    "edad = int(edad)"
   ]
  },
  {
   "cell_type": "code",
   "execution_count": null,
   "metadata": {},
   "outputs": [],
   "source": [
    "edad = edad + 100"
   ]
  },
  {
   "cell_type": "markdown",
   "metadata": {},
   "source": [
    "4. Saluda al usuario por su nombre e indícale su edad dentro de 100 años.\n",
    "\n",
    "**El resultado ha de tener el siguiente aspecto:** _Hola Juan. Dentro de 100 años tendrás 128 años._"
   ]
  },
  {
   "cell_type": "code",
   "execution_count": null,
   "metadata": {},
   "outputs": [],
   "source": [
    "edad = str(edad)"
   ]
  },
  {
   "cell_type": "code",
   "execution_count": null,
   "metadata": {},
   "outputs": [],
   "source": [
    "print(\"Hola \" + nombre + \". Dentro de 100 años tendrás \" + edad + \" años.\")"
   ]
  },
  {
   "cell_type": "markdown",
   "metadata": {},
   "source": [
    "Recuerda guardar tu progreso antes de salir.\n",
    "\n",
    "Para finalizar la sesión, ve a **File** (encima del árbol de carpetas) -> **Shut Down**"
   ]
  }
 ],
 "metadata": {
  "kernelspec": {
   "display_name": "Python 3",
   "language": "python",
   "name": "python3"
  },
  "language_info": {
   "codemirror_mode": {
    "name": "ipython",
    "version": 3
   },
   "file_extension": ".py",
   "mimetype": "text/x-python",
   "name": "python",
   "nbconvert_exporter": "python",
   "pygments_lexer": "ipython3",
   "version": "3.7.4"
  }
 },
 "nbformat": 4,
 "nbformat_minor": 4
}
