{
 "cells": [
  {
   "cell_type": "markdown",
   "metadata": {},
   "source": [
    "# Ejercicio 9\n",
    "\n",
    "## Enunciado\n",
    "Crea un programa que:\n",
    "\n",
    "1. Pregunte al usuario su nombre.\n",
    "2. Pregunte al usuario por su nombre si quiere jugar a un juego.\n",
    "3. Si quiere jugar, pregunte al usuario un número **natural** (de 1 a infinito) cualquiera.\n",
    "4. Genere un número cualquiera entre 0 y el número (ambos incluidos) que ha introducido el usuario.\n",
    "5. Haga que el usuario adivine el número indicando si el número es mayor o es menor.\n",
    "6. Si no quiere jugar, le diga adiós por su nombre."
   ]
  },
  {
   "cell_type": "markdown",
   "metadata": {},
   "source": [
    "### ¿Qué cosas nuevas necesitamos saber?\n",
    "No necesitamos saber nada nuevo para resolver el ejercicio de hoy.\n",
    "\n",
    "No obstante, antes de comenzar, os informo de que vamos a empezar a crear nuestras librerias para evitar repetir código que utilizamos reiteradamente.\n",
    "\n",
    "Como solemos acostumbrar a pedir al usuario cosas por pantalla, he comenzado yo la librería ***entrada.py*** que os he mandado junto con este ejercicio dónde podéis encontrar tres funciones:\n",
    "\n",
    "1. **get_str(mensaje)**: Hace lo mismo que **input()** -> Dado un mensaje, lo imprime por pantalla para solicitar al usuario que introduzca algo por el teclado.\n",
    "2. **get_int(mensaje)**: Hace lo mismo que **input()** pero ya devuelve el texto convertido a int. En caso de que introduzcamos algo que no sea un int, dirá que está mal y nos preguntará de nuevo.\n",
    "3. **get_bool(mensaje)**: Hace lo mismo que **input()** pero ya devuelve el texto convertido a bool. En caso de que introduzcamos algo que no sea **\"y\", \"yes\", \"s\", \"si\", \"n\" o \"no\"** nos preguntará de nuevo. **Devuelve True si la respuesta es \"y\", \"yes\", \"s\" o \"si\" y False si la respuesta es \"n\" o \"no\".**\n",
    "\n",
    "Para no tener nuestras librerías juntos a nuestros ejercicios, crearemos dentro de la carpeta dónde tengamos los ejercicios una carpeta llamada **mislibrerias** y dentro meteremos nuestros ficheros **.py**.\n",
    "\n",
    "Es por ello que necesitamos aprender como realizar un import de una librería propia si esta se encuentra dentro de una carpeta:\n",
    "\n",
    "```python\n",
    "from mislibrerias import entradas\n",
    "```\n",
    "De esta manera indicamos a Python que cargue la librería **entradas** desde la carpeta **mislibrerias**."
   ]
  },
  {
   "cell_type": "code",
   "execution_count": null,
   "metadata": {},
   "outputs": [],
   "source": [
    "# importemos nuestra librería y veamos como usar los métodos\n",
    "from mislibrerias import entradas"
   ]
  },
  {
   "cell_type": "code",
   "execution_count": null,
   "metadata": {},
   "outputs": [],
   "source": [
    "# get_str() funciona como input()\n",
    "texto = entradas.get_str(\"Escribe lo que quieras:\")\n",
    "print(texto)"
   ]
  },
  {
   "cell_type": "code",
   "execution_count": null,
   "metadata": {},
   "outputs": [],
   "source": [
    "# get_int() devuelve ya el número sin necesidad de convertirlo\n",
    "# prueba primero a introducir algo que no sea un número para comprobar que pasa\n",
    "numero = entradas.get_int(\"Dime un número, majo!\")\n",
    "print(numero)"
   ]
  },
  {
   "cell_type": "code",
   "execution_count": null,
   "metadata": {},
   "outputs": [],
   "source": [
    "# get_bool() devuelve ya el texto en formato bool.\n",
    "# las opciones válidas son las indicadas arriba. Realiza tantas pruebas como quieras\n",
    "respuesta = entradas.get_bool(\"¿Quieres un helado?\")\n",
    "print(respuesta)"
   ]
  },
  {
   "cell_type": "markdown",
   "metadata": {},
   "source": [
    "Eso es todo por hoy, ahora, realiza el programa usando las librerías.\n",
    "\n",
    "Recuerda que puedes utilizar libremente todo lo aprendido hasta ahora, sobre todo la declaración de funciones..."
   ]
  },
  {
   "cell_type": "markdown",
   "metadata": {},
   "source": [
    "## Solución"
   ]
  },
  {
   "cell_type": "markdown",
   "metadata": {},
   "source": [
    "1. Pregunta al usuario su nombre **sin usar input()**"
   ]
  },
  {
   "cell_type": "code",
   "execution_count": null,
   "metadata": {},
   "outputs": [],
   "source": [
    "nombre = entradas.get_str(\"Como te llamas?\")"
   ]
  },
  {
   "cell_type": "markdown",
   "metadata": {},
   "source": [
    "2. Pregunta al usuario si quiere jugar a un juego."
   ]
  },
  {
   "cell_type": "code",
   "execution_count": null,
   "metadata": {},
   "outputs": [],
   "source": [
    "quiere_jugar = entradas.get_bool(\"Hola \" + nombre + \", quieres jugar a un juego?\")"
   ]
  },
  {
   "cell_type": "markdown",
   "metadata": {},
   "source": [
    "3. Comprueba si quiere jugar. Si quiere, preguntale un número para determinar el tope y comienza el juego. Si no, dile adiós por su nombre."
   ]
  },
  {
   "cell_type": "code",
   "execution_count": null,
   "metadata": {},
   "outputs": [],
   "source": [
    "def play(number):\n",
    "    respuesta = entradas.get_int(\"En qué número estoy pensando?\")\n",
    "    acertado = respuesta == number\n",
    "    template = \"Lo siento, no has acertado. El número que estoy pensando es @como@ que @respuesta@\"\n",
    "    while not acertado:\n",
    "        if number > respuesta:\n",
    "            print(template.replace(\"@como@\", \"mayor\").replace(\"@respuesta@\", str(respuesta)))\n",
    "        else:\n",
    "            print(template.replace(\"@como@\", \"menor\").replace(\"@respuesta@\", str(respuesta)))\n",
    "        respuesta = entradas.get_int(\"Prueba otra vez: \")\n",
    "        acertado = respuesta == number\n",
    "    print(\"Enhorabuena, el número \" + str(respuesta) + \" es el que había pensado\")        "
   ]
  },
  {
   "cell_type": "code",
   "execution_count": null,
   "metadata": {},
   "outputs": [],
   "source": [
    "import random"
   ]
  },
  {
   "cell_type": "code",
   "execution_count": null,
   "metadata": {},
   "outputs": [],
   "source": [
    "if quiere_jugar:\n",
    "    maximo = entradas.get_int(\"Dime un número como máximo: \")\n",
    "    maquina = random.randint(0, maximo)\n",
    "    play(maquina)\n",
    "else:\n",
    "    print(\"Es una pena que no quieras jugar :'( . Que tengas buen día\", nombre)"
   ]
  }
 ],
 "metadata": {
  "kernelspec": {
   "display_name": "Python 3",
   "language": "python",
   "name": "python3"
  },
  "language_info": {
   "codemirror_mode": {
    "name": "ipython",
    "version": 3
   },
   "file_extension": ".py",
   "mimetype": "text/x-python",
   "name": "python",
   "nbconvert_exporter": "python",
   "pygments_lexer": "ipython3",
   "version": "3.7.4"
  }
 },
 "nbformat": 4,
 "nbformat_minor": 4
}
