{
 "cells": [
  {
   "cell_type": "markdown",
   "metadata": {},
   "source": [
    "# Ejercicio 6\n",
    "\n",
    "## Enunciado\n",
    "Crea un programa:\n",
    "\n",
    "1. Pida al usuario una cadena de texto y le indique si se trata de un palíndromo con un print().\n",
    "\n",
    "## Aclaraciones\n",
    "1. Un palíndromo es una palabra o texto que se lee igual en ambos sentidos, como por ejemplo \"Ana\" o \"Sara Varas\"\n",
    "2. No se han de tener en cuenta ni las mayúsculas ni los espacios."
   ]
  },
  {
   "cell_type": "markdown",
   "metadata": {},
   "source": [
    "### ¿Qué cosas nuevas necesitamos saber?\n",
    "- Los bucles del tipo **while**.\n",
    "- Indexación de listas.\n",
    "- La función **len()**.\n",
    "- Las funciones **upper()**, **lower()** y **replace()** de los elementos de tipo str."
   ]
  },
  {
   "cell_type": "markdown",
   "metadata": {},
   "source": [
    "Veamos ejemplos:"
   ]
  },
  {
   "cell_type": "markdown",
   "metadata": {},
   "source": [
    "### Los bucles del tipo **while**.\n",
    "A diferencia de los bucles de tipo for, los bucles del tipo while se ejecutan mientras se cumple una condición. Dado que en algún momento nuestro buclea ha de finalizar deberemos actualizar la variable que se comprueba en la condición:\n",
    "\n",
    "La forma de utilizarlos es la siguiente:"
   ]
  },
  {
   "cell_type": "code",
   "execution_count": null,
   "metadata": {},
   "outputs": [],
   "source": [
    "# veamos un ejemplo donde deseamos imprimir los números menores que 5.\n",
    "i = 0 # inicializamos nuestra variable\n",
    "while i<5: # utilizamos la palabra while y una expresión de las que devuelven un tipo bool\n",
    "    print(i) # ejecutamos la acción deseada, en este caso un print\n",
    "    i = i + 1 # y actualizamos nuestra variable, ya que si no, este bucle nunca terminaría\n",
    "    "
   ]
  },
  {
   "cell_type": "markdown",
   "metadata": {},
   "source": [
    "### Indexación de listas.\n",
    "Podemos acceder al elemento que ocupa una posición en particular de la lista mediante el uso de los corchetes \"[]\" para indicar la posición a la que queramos acceder.\n",
    "\n",
    "Hay que tener en cuenta que **la primera posición de una lista no es la 1** sino la 0.\n",
    "\n",
    "Veamos algunos ejemplos:"
   ]
  },
  {
   "cell_type": "code",
   "execution_count": null,
   "metadata": {},
   "outputs": [],
   "source": [
    "x = [2, 4, 6, 8, 10, 11] # definimos nuestra variable\n",
    "print(x[0]) # esto imprime 2 porque es el elemento que hay en la posición 0 de x.\n",
    "print(x[3]) # esto imprime 8 porque es el elemento que hay en la posición 3 de x."
   ]
  },
  {
   "cell_type": "markdown",
   "metadata": {},
   "source": [
    "Tambien podemos obtener sublistas de la lista original de la siguiente manera:"
   ]
  },
  {
   "cell_type": "code",
   "execution_count": null,
   "metadata": {},
   "outputs": [],
   "source": [
    "print(x[1:4]) # esto imprimirá [4, 6, 8] porque le hemos pedido que nos de la sublista desde la posición 1 hasta la 4 (como sucede con range, si le pedimos de 1 a 4 nos devuelve 1, 2 y 3)\n",
    "print(x[1:]) # esto imprimirá [4, 6, 8, 10, 11] porque solo le hemos indicado donde ha de comenzar y por lo tanto irá hasta el final.\n",
    "print(x[:3]) # esto imprimirá [2, 4, 6] porque solo le hemos indicado donde ha de terminar y por lo tanto empieza desde el principio."
   ]
  },
  {
   "cell_type": "code",
   "execution_count": null,
   "metadata": {},
   "outputs": [],
   "source": [
    "# dado que la lista tiene 6 elementos, sus posiciones de indexación serán 0, 1, 2, 3, 4, 5 por lo que si le pedimos una posición concreta con un número mayor de 5, fallará\n",
    "print(x[5]) # esto funciona\n",
    "print(x[6]) # esto ya no"
   ]
  },
  {
   "cell_type": "markdown",
   "metadata": {},
   "source": [
    "### La función **len()**.\n",
    "La función len() es aquella que nos devuelve la longitud de una lista.\n",
    "\n",
    "Comprobémoslo:"
   ]
  },
  {
   "cell_type": "code",
   "execution_count": null,
   "metadata": {},
   "outputs": [],
   "source": [
    "print(len(x)) # esto devuelve 6, ya que x tiene 6 elementos"
   ]
  },
  {
   "cell_type": "markdown",
   "metadata": {},
   "source": [
    "Recordemos que las variables de tipo str son listas de caracteres, por lo que podemos indexarlas y recorrerlas igual que las listas normales.\n",
    "\n",
    "Veamos como:"
   ]
  },
  {
   "cell_type": "code",
   "execution_count": null,
   "metadata": {},
   "outputs": [],
   "source": [
    "ejemplo = \"Esto es un ejemplo\" # creamos nuestra variable de ejemplo\n",
    "print(ejemplo[0]) # esto imprimirá la posición 0 de ejemplo, es decir, la \"E\"\n",
    "print(ejemplo[1:4]) # esto imprimirá la subcadena desde la posición 1 hasta la 4, es decir, \"sto\"\n",
    "\n",
    "print(\"------\")\n",
    "\n",
    "i = 0\n",
    "while i<6:\n",
    "    print(ejemplo[i]) # esto imprimirá los 6 primeros caracteres de ejemplo (\"Esto e\") cada uno en una línea\n",
    "    i = i + 1"
   ]
  },
  {
   "cell_type": "markdown",
   "metadata": {},
   "source": [
    "### Las funciones **upper()**, **lower()** y **replace()** de los elementos de tipo str.\n",
    "- La función **upper()**: Es la función que dado un str, pone todas sus letras en mayúsculas.\n",
    "- La función **lower()**: Es la función que dado un str, pone todas sus letras en minúsculas.\n",
    "- La función **replace(A, B)**: Es la función que dado un str, sustituye todas las apariciones de A por B.\n",
    "\n",
    "Veamos ejemplos:"
   ]
  },
  {
   "cell_type": "code",
   "execution_count": null,
   "metadata": {},
   "outputs": [],
   "source": [
    "mi_string = \"Hola Nombre. ¿Cómo Estás Nombre?\"\n",
    "print(mi_string.upper()) # esto sustituye todas las letras por su mayúscula\n",
    "print(mi_string.lower()) # esto sustituye todas las letras por su minúscula\n",
    "print()\n",
    "print(mi_string.replace(\"Nombre\", \"Juan\")) # esto sustituye todas las veces que aparece \"Nombre\" por \"Juan\"\n",
    "print()\n",
    "print(mi_string.replace(\"nombre\", \"Juan\")) # ¿Por qué esto no hace nada?\n",
    "print(mi_string.lower().replace(\"nombre\", \"Juan\")) # ¿Por qué esto si? ¿Por qué Juan está en mayúsculas si hemos usado lower()?"
   ]
  },
  {
   "cell_type": "markdown",
   "metadata": {},
   "source": [
    "**Antes de comenzar, os dejo un pequeño ejercicio de ejemplo donde pretendo encontrar la sexta palabra de una frase y devolverla en mayúsculas por si os ayuda para el ejercicio.**"
   ]
  },
  {
   "cell_type": "code",
   "execution_count": null,
   "metadata": {},
   "outputs": [],
   "source": [
    "frase = \"En un rincon de la Mancha de cuyo nombre no me quiero acordar...\"\n",
    "# como quiero la sexta palabra tendre que hayar la posición del 5ª espacio y del 6ª\n",
    "# cuando tenga dicha posición, ya no me hace falta seguir recorriendo la frase, así que pararemos\n",
    "\n",
    "numero_de_espacios = 0 # para contar los espacios\n",
    "i = 0 # para recorrer la cadena\n",
    "inicio_sexta_palabra = 0 # para marcar la posición inicial\n",
    "longitud_de_la_frase = len(frase) # recordad que no es lo habitual conocer el contenido de las variables, por lo que nos tenemos que asegurar de que el bucle termina en algun momento\n",
    "\n",
    "while (numero_de_espacios < 6) and (i != longitud_de_la_frase):\n",
    "    if frase[i] == \" \":\n",
    "        numero_de_espacios = numero_de_espacios + 1\n",
    "        if numero_de_espacios == 5:\n",
    "            inicio_sexta_palabra = i\n",
    "    i = i + 1"
   ]
  },
  {
   "cell_type": "code",
   "execution_count": null,
   "metadata": {},
   "outputs": [],
   "source": [
    "# veamos como han quedado nuestras variables\n",
    "print(i)\n",
    "print(numero_de_espacios)\n",
    "print(inicio_sexta_palabra)"
   ]
  },
  {
   "cell_type": "code",
   "execution_count": null,
   "metadata": {},
   "outputs": [],
   "source": [
    "# comprobemos cual es la sexta palabra\n",
    "sexta_palabra = frase[inicio_sexta_palabra:i]\n",
    "\n",
    "print(sexta_palabra)"
   ]
  },
  {
   "cell_type": "code",
   "execution_count": null,
   "metadata": {},
   "outputs": [],
   "source": [
    "# como podemos comprobar, hemos sacado tambíen el espacio y nos faltaría ponerla toda en mayúsculas\n",
    "opcion1 = sexta_palabra.replace(\" \", \"\").upper() # aquí hacemos un replace del espacio por nada\n",
    "opcion2 = sexta_palabra[1:].upper() # aquí tomamos la subcadena resultante de eliminar la primera posición\n",
    "\n",
    "print(\"Opción 1:\", opcion1)\n",
    "print(\"Opción 2:\", opcion2)"
   ]
  },
  {
   "cell_type": "markdown",
   "metadata": {},
   "source": [
    "## Solución"
   ]
  },
  {
   "cell_type": "markdown",
   "metadata": {},
   "source": [
    "Desarrolla la solución en tantas líneas necesites.\n",
    "\n",
    "Puedes probar el correcto funcionamiento con estos textos:\n",
    "- \"Ana\" -> Debería decir que si\n",
    "- \"Sara Varas\" -> Debería decir que si\n",
    "- \"El profe mola mazo\" -> Debería decir que no, incluso que el profe no mola nada :)\n",
    "- \"Yo hago YOGA hoy\" -> Debería de decir que si, aunque no hayas hecho yoga hoy."
   ]
  },
  {
   "cell_type": "code",
   "execution_count": null,
   "metadata": {},
   "outputs": [],
   "source": [
    "cadena = input(\"Dime un texto para ver si es palíndromo: \")"
   ]
  },
  {
   "cell_type": "code",
   "execution_count": null,
   "metadata": {},
   "outputs": [],
   "source": [
    "cadena_limpia = cadena.upper().replace(\" \", \"\")"
   ]
  },
  {
   "cell_type": "code",
   "execution_count": null,
   "metadata": {},
   "outputs": [],
   "source": [
    "i, j = 0, len(cadena_limpia)-1"
   ]
  },
  {
   "cell_type": "code",
   "execution_count": null,
   "metadata": {},
   "outputs": [],
   "source": [
    "es_palindromo = True"
   ]
  },
  {
   "cell_type": "code",
   "execution_count": null,
   "metadata": {},
   "outputs": [],
   "source": [
    "while es_palindromo and (i <= j):\n",
    "    es_palindromo = es_palindromo and (cadena_limpia[i] == cadena_limpia[j])\n",
    "    i = i + 1\n",
    "    j = j -1"
   ]
  },
  {
   "cell_type": "code",
   "execution_count": null,
   "metadata": {},
   "outputs": [],
   "source": [
    "print(cadena, \"si\" if es_palindromo else \"no\", \"es un palíndromo\")"
   ]
  },
  {
   "cell_type": "code",
   "execution_count": null,
   "metadata": {},
   "outputs": [],
   "source": []
  }
 ],
 "metadata": {
  "kernelspec": {
   "display_name": "Python 3",
   "language": "python",
   "name": "python3"
  },
  "language_info": {
   "codemirror_mode": {
    "name": "ipython",
    "version": 3
   },
   "file_extension": ".py",
   "mimetype": "text/x-python",
   "name": "python",
   "nbconvert_exporter": "python",
   "pygments_lexer": "ipython3",
   "version": "3.7.4"
  }
 },
 "nbformat": 4,
 "nbformat_minor": 4
}
