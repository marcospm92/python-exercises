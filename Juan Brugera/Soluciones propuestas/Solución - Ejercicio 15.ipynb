{
 "cells": [
  {
   "cell_type": "markdown",
   "metadata": {},
   "source": [
    "# Ejercicio 15\n",
    "\n",
    "## Enunciado\n",
    "Crea un programa que:\n",
    "\n",
    "1. Obtenga los datos acerca del COVID-19 de [esta enlance](https://covid19.isciii.es/resources/serie_historica_acumulados.csv).\n",
    "2. Cree una gráfica de barras que muestre el número de casos más reciente en cada CCAA.\n",
    "\n",
    "## Extra\n",
    "3. Crea la misma gráfica ordenada por número de casos de mayor a menor.\n",
    "4. Pinta de color rojo aquellas CCAA con más de 5000 casos."
   ]
  },
  {
   "cell_type": "markdown",
   "metadata": {},
   "source": [
    "### ¿Qué cosas nuevas necesitamos saber?\n",
    "- Ordenando colecciones de objetos. La función **sorted()**.\n",
    "- Los gráficos de barras."
   ]
  },
  {
   "cell_type": "markdown",
   "metadata": {},
   "source": [
    "### Ordenando colecciones de objetos. La función **sorted()**.\n",
    "\n",
    "Como veáimos ayer, existen funciones que nos permiten recorrer una colección de objetos para aplicar una función sobre todos ellos o filtrar.\n",
    "\n",
    "De igual manera, podemos hacer algo similar para ordenar la coleción mediante **sorted()**.\n",
    "\n",
    "Veamos ejemplos:"
   ]
  },
  {
   "cell_type": "code",
   "execution_count": 1,
   "metadata": {},
   "outputs": [],
   "source": [
    "numeros = [0, 5, 1, -7, 50, -32, 5, 10, 33]"
   ]
  },
  {
   "cell_type": "code",
   "execution_count": 2,
   "metadata": {},
   "outputs": [
    {
     "name": "stdout",
     "output_type": "stream",
     "text": [
      "[-32, -7, 0, 1, 5, 5, 10, 33, 50]\n"
     ]
    }
   ],
   "source": [
    "# si no le decimos nada, sorted() aplicará el orden normal de los elementos\n",
    "numeros_ordenados = sorted(numeros)\n",
    "print(numeros_ordenados)\n",
    "# como podemos comprobar, en este caso si nos devuelve la lista ordenada"
   ]
  },
  {
   "cell_type": "markdown",
   "metadata": {},
   "source": [
    "Podemos además, pasarle una función que determine el orden.\n",
    "\n",
    "Veamos como ordenar la lista en base al valor absoluto de los números:"
   ]
  },
  {
   "cell_type": "code",
   "execution_count": 3,
   "metadata": {},
   "outputs": [],
   "source": [
    "def absoluto(n):\n",
    "    return abs(n)"
   ]
  },
  {
   "cell_type": "code",
   "execution_count": 4,
   "metadata": {},
   "outputs": [
    {
     "name": "stdout",
     "output_type": "stream",
     "text": [
      "[0, 1, 5, 5, -7, 10, -32, 33, 50]\n",
      "[0, 1, 5, 5, -7, 10, -32, 33, 50]\n"
     ]
    }
   ],
   "source": [
    "# en este caso, veremos los números ordenados independientemente del signo\n",
    "numeros_absolutos = sorted(numeros, key=absoluto)\n",
    "print(numeros_absolutos)\n",
    "\n",
    "# o lo que sería lo mismo\n",
    "numeros_absolutos = sorted(numeros, key=abs)\n",
    "print(numeros_absolutos)"
   ]
  },
  {
   "cell_type": "markdown",
   "metadata": {},
   "source": [
    "Además, podemos ordenar los elementos en el orden inverso pasando el parámetro **reverse** con valor **True**."
   ]
  },
  {
   "cell_type": "code",
   "execution_count": 5,
   "metadata": {},
   "outputs": [
    {
     "name": "stdout",
     "output_type": "stream",
     "text": [
      "[50, 33, -32, 10, -7, 5, 5, 1, 0]\n"
     ]
    }
   ],
   "source": [
    "# en este caso, veremos los números ordenados independientemente del signo, pero de mayor a menor\n",
    "numeros_absolutos = sorted(numeros, key=absoluto, reverse=True)\n",
    "print(numeros_absolutos)"
   ]
  },
  {
   "cell_type": "markdown",
   "metadata": {},
   "source": [
    "### Los gráficos de barras."
   ]
  },
  {
   "cell_type": "code",
   "execution_count": 6,
   "metadata": {},
   "outputs": [],
   "source": [
    "from matplotlib import pyplot as plt\n",
    "%matplotlib inline"
   ]
  },
  {
   "cell_type": "markdown",
   "metadata": {},
   "source": [
    "En este caso, hay poco que explicar. La única diferencia respecto ayer es que, a parte de las X y las Y necesitaremos las etiquetas del eje X.\n",
    "\n",
    "Generemos unos datos aleatorios de muestra:"
   ]
  },
  {
   "cell_type": "code",
   "execution_count": 7,
   "metadata": {},
   "outputs": [],
   "source": [
    "etiquetas = ['A', 'B', 'C', 'D', 'E'] # esto serán las etiquetas del eje X\n",
    "x = list(range(len(etiquetas))) # esta la posición de cada una de las barras, del 0 al 4 en este caso\n",
    "y = [57, 65, 32, 40, 95] # y estos los valores de y"
   ]
  },
  {
   "cell_type": "code",
   "execution_count": 8,
   "metadata": {},
   "outputs": [
    {
     "data": {
      "image/png": "[encoded data removed]",
      "text/plain": [
       "<Figure size 936x432 with 1 Axes>"
      ]
     },
     "metadata": {
      "needs_background": "light"
     },
     "output_type": "display_data"
    }
   ],
   "source": [
    "# veamos como pintarlos\n",
    "plt.figure(figsize=(13, 6)) # tamaño del recuadro\n",
    "plt.bar(x, y) # bar para pintar un gráfico de barras\n",
    "plt.title(\"Ejemplo\") # nuestro título\n",
    "plt.xticks(x, etiquetas) # para pintar cada etiqueta en su posición\n",
    "plt.xlabel(\"Etiquetas\") # Nombre del eje X\n",
    "plt.ylabel(\"Valores\") # Nombre del eje Y\n",
    "plt.tight_layout() # para ajustar el gráfico a la figura\n",
    "plt.show()"
   ]
  },
  {
   "cell_type": "code",
   "execution_count": 9,
   "metadata": {},
   "outputs": [
    {
     "data": {
      "image/png": "[encoded data removed]",
      "text/plain": [
       "<Figure size 936x432 with 1 Axes>"
      ]
     },
     "metadata": {
      "needs_background": "light"
     },
     "output_type": "display_data"
    }
   ],
   "source": [
    "# de manera adicional, podemos especificar el color de cada barra generando una lista de colores\n",
    "\n",
    "colores = ['red' if numero % 2 == 0 else 'blue' for numero in y] # rojo pares, azul impares\n",
    "\n",
    "plt.figure(figsize=(13, 6))\n",
    "plt.bar(x, y, color=colores) # añadimos la lista de colores para cada barra\n",
    "plt.title(\"Ejemplo con colores\")\n",
    "plt.xticks(x, etiquetas) \n",
    "plt.xlabel(\"Etiquetas\") \n",
    "plt.ylabel(\"Valores\") \n",
    "plt.tight_layout()\n",
    "plt.show()"
   ]
  },
  {
   "cell_type": "markdown",
   "metadata": {},
   "source": [
    "Como vemos en el ejemplo anterior, en este caso no hemos añadir una leyenda porque no hemos indicar el color para cada plt.bar() si no para cada barra dentro del propio plt.bar().\n",
    "\n",
    "Si deseáramos incluir una leyenda, tendríamos que hacer cada conjunto de elemtos (pares e impares) por separado.\n",
    "\n",
    "No obstante, en este ejercicio, no es necesario añadir leyenda para el Extra, vale con cambiar los colores en función de lo indicado."
   ]
  },
  {
   "cell_type": "markdown",
   "metadata": {},
   "source": [
    "Eso es todo, a por el ejercicio!"
   ]
  },
  {
   "cell_type": "markdown",
   "metadata": {},
   "source": [
    "## Solución"
   ]
  },
  {
   "cell_type": "code",
   "execution_count": 10,
   "metadata": {},
   "outputs": [],
   "source": [
    "import requests"
   ]
  },
  {
   "cell_type": "code",
   "execution_count": 11,
   "metadata": {},
   "outputs": [],
   "source": [
    "from datetime import datetime"
   ]
  },
  {
   "cell_type": "code",
   "execution_count": 12,
   "metadata": {},
   "outputs": [],
   "source": [
    "from matplotlib import pyplot as plt"
   ]
  },
  {
   "cell_type": "code",
   "execution_count": 13,
   "metadata": {},
   "outputs": [],
   "source": [
    "%matplotlib inline"
   ]
  },
  {
   "cell_type": "code",
   "execution_count": 14,
   "metadata": {},
   "outputs": [],
   "source": [
    "data = requests.get(\"https://covid19.isciii.es/resources/serie_historica_acumulados.csv\").text"
   ]
  },
  {
   "cell_type": "code",
   "execution_count": 15,
   "metadata": {},
   "outputs": [],
   "source": [
    "registros = data.splitlines()"
   ]
  },
  {
   "cell_type": "code",
   "execution_count": 16,
   "metadata": {},
   "outputs": [],
   "source": [
    "def registro_valido(registro):\n",
    "    return len(registro.split(\",\")[0]) == 2\n",
    "\n",
    "real_data = list(filter(registro_valido, registros))"
   ]
  },
  {
   "cell_type": "code",
   "execution_count": 17,
   "metadata": {},
   "outputs": [],
   "source": [
    "def format_reg(reg):\n",
    "    splitted = reg.split(\",\")\n",
    "    reg_as_dict = {\n",
    "        'ccaa': splitted[0],\n",
    "        'date': datetime.strptime(splitted[1], '%d/%m/%Y'),\n",
    "        'cases': int(splitted[2]) if splitted[2] else 0,\n",
    "        'in_hospital': int(splitted[3]) if splitted[3] else 0,\n",
    "        'in_UCI': int(splitted[4]) if splitted[4] else 0,\n",
    "        'deaths': int(splitted[5]) if splitted[5] else 0,\n",
    "        'recovered': int(splitted[6]) if splitted[6] else 0\n",
    "    }\n",
    "    return reg_as_dict"
   ]
  },
  {
   "cell_type": "code",
   "execution_count": 18,
   "metadata": {},
   "outputs": [],
   "source": [
    "formatted_data = list(map(format_reg, real_data))"
   ]
  },
  {
   "cell_type": "code",
   "execution_count": 19,
   "metadata": {},
   "outputs": [],
   "source": [
    "most_recent = formatted_data[-19:]"
   ]
  },
  {
   "cell_type": "code",
   "execution_count": 20,
   "metadata": {},
   "outputs": [],
   "source": [
    "labels = [reg.get('ccaa') for reg in most_recent]"
   ]
  },
  {
   "cell_type": "code",
   "execution_count": 21,
   "metadata": {},
   "outputs": [],
   "source": [
    "cases = [reg.get('cases') for reg in most_recent]"
   ]
  },
  {
   "cell_type": "code",
   "execution_count": 22,
   "metadata": {},
   "outputs": [],
   "source": [
    "x = range(len(cases))"
   ]
  },
  {
   "cell_type": "code",
   "execution_count": 23,
   "metadata": {},
   "outputs": [
    {
     "data": {
      "image/png": "[encoded data removed]",
      "text/plain": [
       "<Figure size 936x432 with 1 Axes>"
      ]
     },
     "metadata": {
      "needs_background": "light"
     },
     "output_type": "display_data"
    }
   ],
   "source": [
    "plt.figure(figsize=(13, 6))\n",
    "plt.bar(x, cases)\n",
    "plt.title(\"Número de casos de COVID-19 por CCAA\")\n",
    "plt.xticks(x, labels)\n",
    "plt.xlabel(\"Comunidad Autónoma\")\n",
    "plt.ylabel(\"Número de casos\")\n",
    "plt.tight_layout()\n",
    "plt.show()"
   ]
  },
  {
   "cell_type": "code",
   "execution_count": 24,
   "metadata": {},
   "outputs": [],
   "source": [
    "def cases(reg):\n",
    "    return reg.get('cases')"
   ]
  },
  {
   "cell_type": "code",
   "execution_count": 25,
   "metadata": {},
   "outputs": [],
   "source": [
    "most_recent_sorted = list(sorted(most_recent, key=cases, reverse=True))"
   ]
  },
  {
   "cell_type": "code",
   "execution_count": 26,
   "metadata": {},
   "outputs": [],
   "source": [
    "labels = [reg.get('ccaa') for reg in most_recent_sorted]\n",
    "cases = [reg.get('cases') for reg in most_recent_sorted]\n",
    "colors = ['red' if n_cases > 5000 else 'blue' for n_cases in cases]"
   ]
  },
  {
   "cell_type": "code",
   "execution_count": 27,
   "metadata": {},
   "outputs": [
    {
     "data": {
      "image/png": "[encoded data removed]",
      "text/plain": [
       "<Figure size 936x432 with 1 Axes>"
      ]
     },
     "metadata": {
      "needs_background": "light"
     },
     "output_type": "display_data"
    }
   ],
   "source": [
    "plt.figure(figsize=(13, 6))\n",
    "plt.bar(x, cases, color=colors)\n",
    "plt.title(\"Número de casos de COVID-19 por CCAA\")\n",
    "plt.xticks(x, labels)\n",
    "plt.xlabel(\"Comunidad Autónoma\")\n",
    "plt.ylabel(\"Número de casos\")\n",
    "plt.tight_layout()\n",
    "plt.show()"
   ]
  },
  {
   "cell_type": "code",
   "execution_count": null,
   "metadata": {},
   "outputs": [],
   "source": []
  }
 ],
 "metadata": {
  "kernelspec": {
   "display_name": "Python 3",
   "language": "python",
   "name": "python3"
  },
  "language_info": {
   "codemirror_mode": {
    "name": "ipython",
    "version": 3
   },
   "file_extension": ".py",
   "mimetype": "text/x-python",
   "name": "python",
   "nbconvert_exporter": "python",
   "pygments_lexer": "ipython3",
   "version": "3.7.2"
  }
 },
 "nbformat": 4,
 "nbformat_minor": 4
}
