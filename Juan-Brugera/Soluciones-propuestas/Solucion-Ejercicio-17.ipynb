{
 "cells": [
  {
   "cell_type": "markdown",
   "metadata": {},
   "source": [
    "# Ejercicio 17\n",
    "\n",
    "## Enunciado\n",
    "Crea un programa que:\n",
    "\n",
    "1. Lea los datos del fichero **registros.csv** pertenecientes al uso de una aplicación.\n",
    "2. Genere un mapa de calor donde se pueda apreciar a qué horas de que día de la semana es mayor el número de conexiones."
   ]
  },
  {
   "cell_type": "markdown",
   "metadata": {},
   "source": [
    "### ¿Qué cosas nuevas necesitamos saber?\n",
    "- Mapas de calor."
   ]
  },
  {
   "cell_type": "markdown",
   "metadata": {},
   "source": [
    "### Mapas de calor.\n",
    "\n",
    "Los mapas de calor son gráficos con los que podemos ver la relación de 2 variables.\n",
    "\n",
    "Realicemos un ejemplo con granjas y tipos de animales."
   ]
  },
  {
   "cell_type": "code",
   "execution_count": null,
   "metadata": {},
   "outputs": [],
   "source": [
    "# recordad que es necesario hacer los import precedentes\n",
    "from matplotlib import pyplot as plt\n",
    "%matplotlib inline"
   ]
  },
  {
   "cell_type": "code",
   "execution_count": null,
   "metadata": {},
   "outputs": [],
   "source": [
    "granjas = ['A', 'B', 'C', 'D', 'E', 'F', 'G']\n",
    "animales = ['Vacas', 'Toros', 'Gallinas', 'Gallos', 'Cerdos', 'Cabras', 'Ovejas', 'Otros']"
   ]
  },
  {
   "cell_type": "code",
   "execution_count": null,
   "metadata": {},
   "outputs": [],
   "source": [
    "import random\n",
    "random.seed(42) # fijamos el seed para que nos genere a todos los mismos números aleatorios la primera vez"
   ]
  },
  {
   "cell_type": "code",
   "execution_count": null,
   "metadata": {},
   "outputs": [],
   "source": [
    "# esto genera una una lista de listas\n",
    "# donde cada uno de los elementos de la lista es el número de animales de un tipo  que hay en cada granja\n",
    "datos = [[random.randint(100, 500) for granja in granjas] for animal in animales]"
   ]
  },
  {
   "cell_type": "code",
   "execution_count": null,
   "metadata": {},
   "outputs": [],
   "source": [
    "for animal, cuantos in zip(animales, datos):\n",
    "    print(animal, cuantos)"
   ]
  },
  {
   "cell_type": "code",
   "execution_count": null,
   "metadata": {},
   "outputs": [],
   "source": [
    "plt.figure(figsize=(len(granjas), len(animales))) # doy el tamaño correspondiente en función de lo que voy a pintar\n",
    "plt.imshow(datos, interpolation='lanczos', cmap='inferno') # paso la matriz de datos, la interpolación y el mapa de colores\n",
    "plt.xticks(range(len(granjas)), labels=granjas) # etiquetas del eje X -> posiciones y etiquetas de cada posición\n",
    "plt.yticks(range(len(animales)), labels=animales) # etiquetas del eje Y -> posiciones y etiquetas de cada posición\n",
    "plt.tight_layout()\n",
    "plt.show()"
   ]
  },
  {
   "cell_type": "markdown",
   "metadata": {},
   "source": [
    "Como podemos comprobar, las zonas más amarillas corresponden con las que hay un mayor número de animales (Vacas en A, Otros en G...) y las más azuladas las que menos tienen (Toros y Cabras en A, Gallos en C...).\n",
    "\n",
    "Respecto a los parámetros interpolation y cmap, podéis ver los distintos tipos aquí:\n",
    "- [interporlation](https://matplotlib.org/3.1.1/gallery/images_contours_and_fields/interpolation_methods.html#sphx-glr-gallery-images-contours-and-fields-interpolation-methods-py)\n",
    "- [cmap](https://matplotlib.org/3.1.1/gallery/color/colormap_reference.html)"
   ]
  },
  {
   "cell_type": "markdown",
   "metadata": {},
   "source": [
    "Antes de comenzar, quizás te sea útil pasarte por [aquí](https://docs.python.org/3/library/datetime.html#datetime.time.hour) para saber como obtener la hora a partir de un datetime().\n",
    "\n",
    "Suerte!"
   ]
  },
  {
   "cell_type": "markdown",
   "metadata": {},
   "source": [
    "## Solución"
   ]
  },
  {
   "cell_type": "code",
   "execution_count": null,
   "metadata": {},
   "outputs": [],
   "source": [
    "from matplotlib import pyplot as plt\n",
    "%matplotlib inline"
   ]
  },
  {
   "cell_type": "code",
   "execution_count": null,
   "metadata": {},
   "outputs": [],
   "source": [
    "from datetime import datetime"
   ]
  },
  {
   "cell_type": "code",
   "execution_count": null,
   "metadata": {},
   "outputs": [],
   "source": [
    "with open('../Otros/registros.csv', 'r') as f:\n",
    "    texto = f.read()\n",
    "    f.close()"
   ]
  },
  {
   "cell_type": "code",
   "execution_count": null,
   "metadata": {},
   "outputs": [],
   "source": [
    "texto_en_filas = texto.splitlines()"
   ]
  },
  {
   "cell_type": "code",
   "execution_count": null,
   "metadata": {},
   "outputs": [],
   "source": [
    "# como podemos comprobar tenemos cabeceras en la primera fila, 2 campos y separados por ;\n",
    "def formatea_registro(fila):\n",
    "    fecha_texto, duracion_texto = fila.split(\";\")\n",
    "    fecha = datetime.strptime(fecha_texto, \"%Y/%m/%d %H:%M\")\n",
    "    registro = {\n",
    "        'dia_semana': fecha.weekday(),\n",
    "        'hora': fecha.hour\n",
    "    }\n",
    "    return registro"
   ]
  },
  {
   "cell_type": "code",
   "execution_count": null,
   "metadata": {},
   "outputs": [],
   "source": [
    "registros = list(map(formatea_registro, texto_en_filas[1:]))"
   ]
  },
  {
   "cell_type": "code",
   "execution_count": null,
   "metadata": {},
   "outputs": [],
   "source": [
    "dias_semana = ['Lunes', 'Martes', 'Miercoles', 'Jueves', 'Viernes', 'Sábado', 'Domingo']"
   ]
  },
  {
   "cell_type": "code",
   "execution_count": null,
   "metadata": {},
   "outputs": [],
   "source": [
    "# inicializamos la matriz de datos a 0\n",
    "valores = [[0 for hora in range(24)] for dia in dias_semana]"
   ]
  },
  {
   "cell_type": "code",
   "execution_count": null,
   "metadata": {},
   "outputs": [],
   "source": [
    "for reg in registros:\n",
    "    dia, hora = reg.get('dia_semana'), reg.get('hora')\n",
    "    valores[dia][hora] += 1"
   ]
  },
  {
   "cell_type": "code",
   "execution_count": null,
   "metadata": {},
   "outputs": [],
   "source": [
    "plt.figure(figsize=(24, 7))\n",
    "plt.imshow(valores, interpolation='lanczos', cmap='inferno')\n",
    "plt.xticks(range(24), labels=range(24))\n",
    "plt.yticks(range(7), labels=dias_semana)\n",
    "plt.tight_layout()\n",
    "plt.show()"
   ]
  },
  {
   "cell_type": "code",
   "execution_count": null,
   "metadata": {},
   "outputs": [],
   "source": []
  }
 ],
 "metadata": {
  "kernelspec": {
   "display_name": "Python 3",
   "language": "python",
   "name": "python3"
  },
  "language_info": {
   "codemirror_mode": {
    "name": "ipython",
    "version": 3
   },
   "file_extension": ".py",
   "mimetype": "text/x-python",
   "name": "python",
   "nbconvert_exporter": "python",
   "pygments_lexer": "ipython3",
   "version": "3.7.6"
  }
 },
 "nbformat": 4,
 "nbformat_minor": 4
}
