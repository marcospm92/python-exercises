{
 "cells": [
  {
   "cell_type": "markdown",
   "metadata": {},
   "source": [
    "# Ejercicio 16\n",
    "\n",
    "## Enunciado\n",
    "Crea un programa que:\n",
    "\n",
    "1. Lea los datos del fichero **registros.csv** pertenecientes al uso de una aplicación.\n",
    "2. Genere un gráfico tipo tarta junto con un gráfico de barras dónde se muestre como se distribuyen las conexiones y duración total en función del día de la semana.\n",
    "\n",
    "## Aclaraciones:\n",
    "Lo que se pide es trasladar a un gráfico de tipo pastel el número total de conexiones que se dan en función del día de la semana así como la suma de sus duraciones en un gráfico de barras."
   ]
  },
  {
   "cell_type": "markdown",
   "metadata": {},
   "source": [
    "### ¿Qué cosas nuevas necesitamos saber?\n",
    "- Gráficos tipo pastel.\n",
    "- Figuras con más de un gráfico."
   ]
  },
  {
   "cell_type": "markdown",
   "metadata": {},
   "source": [
    "### Gráficos tipo pastel\n",
    "\n",
    "Veamos directamente como hacer un gráfico circular o de pastel mediante un ejemplo:"
   ]
  },
  {
   "cell_type": "code",
   "execution_count": null,
   "metadata": {},
   "outputs": [],
   "source": [
    "# recordad que es necesario hacer los import precedentes\n",
    "from matplotlib import pyplot as plt\n",
    "%matplotlib inline"
   ]
  },
  {
   "cell_type": "code",
   "execution_count": null,
   "metadata": {},
   "outputs": [],
   "source": [
    "animales = ['Vacas', 'Toros', 'Gallinas', 'Gallos']\n",
    "cuantos = [100, 50, 300, 20]\n",
    "\n",
    "plt.figure(figsize=(13, 6)) # creamos nuestra figura\n",
    "plt.pie(cuantos, labels=animales, shadow=True, autopct='%.2f%%') # shadow es para pintar la sombra\n",
    "# y autopct con ese valor es para pintar los porcentajes con 2 decimales\n",
    "plt.title(\"Granja de Pepito\")\n",
    "plt.tight_layout()\n",
    "plt.show()"
   ]
  },
  {
   "cell_type": "markdown",
   "metadata": {},
   "source": [
    "### Figuras con más de un gráfico.\n",
    "\n",
    "Veamos ahora como crear figuras con más de un gráfico.\n",
    "\n",
    "Siguiendo el mismo ejemplo, comparemos la granja de Pepito con la de José."
   ]
  },
  {
   "cell_type": "code",
   "execution_count": null,
   "metadata": {},
   "outputs": [],
   "source": [
    "animales = ['Vacas', 'Toros', 'Gallinas', 'Gallos']\n",
    "cuantos_pepito = [100, 50, 300, 20]\n",
    "cuantos_jose = [100, 100, 200, 50]\n",
    "\n",
    "fig, ax = plt.subplots(1, 2, figsize=(13,6)) # 1 fila, 2 columnas -> 2 gráficos\n",
    "# cada uno de ellos estará en ax\n",
    "\n",
    "# creamos el primero\n",
    "ax[0].pie(cuantos_pepito, labels=animales, shadow=True, autopct='%.2f%%') # gráfico que pintamos en el primero\n",
    "ax[0].set_title(\"Granja de Pepito\") # titulo del primero\n",
    "\n",
    "# creamos el segundo\n",
    "ax[1].pie(cuantos_jose, labels=animales, shadow=True, autopct='%.2f%%') # gráfico del segundo\n",
    "ax[1].set_title(\"Granja de Jose\") # título del segundo\n",
    "\n",
    "fig.suptitle(\"Comparando la granja de Pepito con la de José\", size=15) #título e la figura\n",
    "plt.show()"
   ]
  },
  {
   "cell_type": "markdown",
   "metadata": {},
   "source": [
    "Antes de comenzar, quizás te sea útil pasarte por [aquí](https://docs.python.org/3/library/datetime.html#datetime.date.weekday) para saber como obtener el día de la semana a partir de un datetime().\n",
    "\n",
    "Suerte!"
   ]
  },
  {
   "cell_type": "markdown",
   "metadata": {},
   "source": [
    "## Solución"
   ]
  },
  {
   "cell_type": "code",
   "execution_count": null,
   "metadata": {},
   "outputs": [],
   "source": [
    "from matplotlib import pyplot as plt\n",
    "%matplotlib inline"
   ]
  },
  {
   "cell_type": "code",
   "execution_count": null,
   "metadata": {},
   "outputs": [],
   "source": [
    "from datetime import datetime"
   ]
  },
  {
   "cell_type": "code",
   "execution_count": null,
   "metadata": {},
   "outputs": [],
   "source": [
    "with open('../Otros/registros.csv', 'r') as f:\n",
    "    texto = f.read()\n",
    "    f.close()"
   ]
  },
  {
   "cell_type": "code",
   "execution_count": null,
   "metadata": {},
   "outputs": [],
   "source": [
    "texto_en_filas = texto.splitlines()"
   ]
  },
  {
   "cell_type": "code",
   "execution_count": null,
   "metadata": {},
   "outputs": [],
   "source": [
    "# analicemos nuestros datos\n",
    "for fila in texto_en_filas[:5]:\n",
    "    print(fila)"
   ]
  },
  {
   "cell_type": "code",
   "execution_count": null,
   "metadata": {},
   "outputs": [],
   "source": [
    "# analicemos nuestros datos\n",
    "for fila in texto_en_filas[-5:]:\n",
    "    print(fila)"
   ]
  },
  {
   "cell_type": "code",
   "execution_count": null,
   "metadata": {},
   "outputs": [],
   "source": [
    "# como podemos comprobar tenemos cabeceras en la primera fila, 2 campos y separados por ;\n",
    "def formatea_registro(fila):\n",
    "    fecha_texto, duracion_texto = fila.split(\";\")\n",
    "    fecha = datetime.strptime(fecha_texto, \"%Y/%m/%d %H:%M\")\n",
    "    registro = {\n",
    "        'dia_semana': fecha.isoweekday(),\n",
    "        'hora': fecha.hour,\n",
    "        'fecha': fecha,\n",
    "        'duracion': int(duracion_texto)\n",
    "    }\n",
    "    return registro"
   ]
  },
  {
   "cell_type": "code",
   "execution_count": null,
   "metadata": {},
   "outputs": [],
   "source": [
    "registros = list(map(formatea_registro, texto_en_filas[1:]))"
   ]
  },
  {
   "cell_type": "code",
   "execution_count": null,
   "metadata": {},
   "outputs": [],
   "source": [
    "dias_semana = {\n",
    "    1: 'Lunes',\n",
    "    2: 'Martes',\n",
    "    3: 'Miercoles',\n",
    "    4: 'Jueves',\n",
    "    5: 'Viernes',\n",
    "    6: 'Sábado',\n",
    "    7: 'Domingo'\n",
    "}"
   ]
  },
  {
   "cell_type": "code",
   "execution_count": null,
   "metadata": {},
   "outputs": [],
   "source": [
    "conexiones_por_dia = {k: 0 for k in dias_semana.keys()}\n",
    "uso_por_dia = {k: 0 for k in dias_semana.keys()}"
   ]
  },
  {
   "cell_type": "code",
   "execution_count": null,
   "metadata": {},
   "outputs": [],
   "source": [
    "for registro in registros:\n",
    "    dia_semana = registro.get(\"dia_semana\")\n",
    "    conexiones_por_dia[dia_semana] = conexiones_por_dia[dia_semana] + 1\n",
    "    uso_por_dia[dia_semana] = uso_por_dia[dia_semana] + registro.get(\"duracion\")"
   ]
  },
  {
   "cell_type": "code",
   "execution_count": null,
   "metadata": {},
   "outputs": [],
   "source": [
    "labels = list(dias_semana.values())\n",
    "usos = [v for v in conexiones_por_dia.values()]\n",
    "duraciones = [v for v in uso_por_dia.values()]"
   ]
  },
  {
   "cell_type": "code",
   "execution_count": null,
   "metadata": {},
   "outputs": [],
   "source": [
    "fig, ax = plt.subplots(1, 2, figsize=(13, 6))\n",
    "ax[0].pie(usos, labels=labels, shadow=True, startangle=180, autopct='%1.2f%%')\n",
    "ax[1].bar(labels, duraciones)\n",
    "fig.tight_layout()\n",
    "plt.show()"
   ]
  }
 ],
 "metadata": {
  "kernelspec": {
   "display_name": "Python 3",
   "language": "python",
   "name": "python3"
  },
  "language_info": {
   "codemirror_mode": {
    "name": "ipython",
    "version": 3
   },
   "file_extension": ".py",
   "mimetype": "text/x-python",
   "name": "python",
   "nbconvert_exporter": "python",
   "pygments_lexer": "ipython3",
   "version": "3.7.6"
  }
 },
 "nbformat": 4,
 "nbformat_minor": 4
}
