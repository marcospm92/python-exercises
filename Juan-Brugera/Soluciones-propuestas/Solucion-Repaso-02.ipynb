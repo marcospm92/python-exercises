{
 "cells": [
  {
   "cell_type": "markdown",
   "metadata": {},
   "source": [
    "# Repaso 2\n",
    "\n",
    "## Enunciado\n",
    "\n",
    "Crea un programa para jugar al [Master Mind](https://es.wikipedia.org/wiki/Mastermind) teniendo en cuenta que:\n",
    "- Utilizaremos números en vez de colores por simplicidad.\n",
    "- El jugador elegirá la dificultad entre 2 y 6, correspondiendose este número con la longitud de la lista de números a adivinar.\n",
    "- Si el jugador desea salir, podrá escribir \"**exit**\" para dejar de jugar."
   ]
  },
  {
   "cell_type": "markdown",
   "metadata": {},
   "source": [
    "Cómo las reglas se pueden interpretar de varias maneras, vamos a tratar de fijar unas comunes para todos:\n",
    "\n",
    "Tomaremos como referencia el ejemplo de la wikipedia:\n",
    "\n",
    "```python\n",
    "jugada_a_adivinar = [0, 1, 2, 0]\n",
    "```\n",
    "\n",
    "1. El resultado de cada jugada fallida, ha de ser del tipo \"X negras, Y blancas\" siendo **negras** el número de fichas correctas en su correcta posición y **blancas** el número de fichas correctas en posición incorrecta. Por ejemplo, estas han de ser las salidas para las siguientes jugadas:\n",
    "    1. [1, 1, 1, 1] -> 1 negras, 3 blancas\n",
    "    2. [0, 0, 0, 0] -> 2 negras, 2 blancas\n",
    "    3. [1, 2, 1, 2] -> 0 negras, 4 blancas\n",
    "    4. [4, 5, 6, 7] -> 0 negras, 0 blancas\n",
    "    5. [0, 5, 6, 7] -> 1 negras, 0 blancas\n",
    "    6. [4, 5, 6, 1] -> 0 negras, 1 blancas\n",
    "\n",
    "Es decir, se marcará como \"ficha correcta fuera de posición\" aquella ficha que a pesar de que en su posicón haya una ficha correcta no lo esté.\n",
    "\n",
    "2. El usuario tiene tantos intentos como necesite para completar el juego. Solo terminará si así lo desea o si acierta la combinación.\n",
    "\n",
    "3. El programa ha de ser a prueba de bombas, es decir, que si el jugador es un canalla, no se pueda salir con la suya. Por ejemplo, si quiere jugar con 4 números, que no meta jugadas de 5. Tampoco jugadas que no sean números, etc...\n",
    "\n",
    "4. Muestra siempre en cualquier caso la última jugada del jugador para que pueda seguir las pistas.\n",
    "\n",
    "5. Eres totalmente libre de implementar el código como desees. En la variedad está el gusto. No obstante, la sencillez prima por encima de todo."
   ]
  },
  {
   "cell_type": "markdown",
   "metadata": {},
   "source": [
    "## Solución\n",
    "\n",
    "Os dejo un ejemplo de las salidas que debería devolver si la combinación fuese [9, 4, 5, 9]\n",
    "```python\n",
    "Escribe tu jugada:  9159\n",
    "[9, 1, 5, 9] negras: 3 blancas: 0\n",
    "Escribe tu jugada:  4995\n",
    "[4, 9, 9, 5] negras: 0 blancas: 4\n",
    "Escribe tu jugada:  4444\n",
    "[4, 4, 4, 4] negras: 1 blancas: 3\n",
    "Escribe tu jugada:  9459\n",
    "Enhorabuena, has ganado! [9, 4, 5, 9]\n",
    "```"
   ]
  },
  {
   "cell_type": "code",
   "execution_count": null,
   "metadata": {},
   "outputs": [],
   "source": [
    "import random"
   ]
  },
  {
   "cell_type": "code",
   "execution_count": null,
   "metadata": {},
   "outputs": [],
   "source": [
    "from mislibrerias import entradas"
   ]
  },
  {
   "cell_type": "code",
   "execution_count": null,
   "metadata": {},
   "outputs": [],
   "source": [
    "def dificultad():\n",
    "    respuestas_validas = range(2,7)\n",
    "    cuantas = 0\n",
    "    while cuantas not in respuestas_validas:\n",
    "        cuantas = entradas.get_int(\"Dime con cúantas fichas quieres jugar: \")\n",
    "        if cuantas not in respuestas_validas:\n",
    "            print(\"Has de elegir un número entre 2 y 6\")\n",
    "    return cuantas"
   ]
  },
  {
   "cell_type": "code",
   "execution_count": null,
   "metadata": {},
   "outputs": [],
   "source": [
    "def pedir_jugada(n):\n",
    "    jugada_valida = False\n",
    "    while not jugada_valida:\n",
    "        jugador = entradas.get_str(\"Escribe tu jugada: \")\n",
    "        jugada_valida = validar_jugada(jugador, n)\n",
    "        if not jugada_valida:\n",
    "            print(\"Jugada no válida. Inténtalo de nuevo\")\n",
    "    return jugador"
   ]
  },
  {
   "cell_type": "code",
   "execution_count": null,
   "metadata": {},
   "outputs": [],
   "source": [
    "def validar_jugada(jugada, n):\n",
    "    if jugada == 'exit':\n",
    "        return True\n",
    "    else:\n",
    "        es_valida, i = True, 0\n",
    "        opciones = \"0123456789\"\n",
    "        while es_valida and i < len(jugada):\n",
    "            es_valida = jugada[i] in opciones\n",
    "            i = i+1\n",
    "        return es_valida and (len(jugada) == n)"
   ]
  },
  {
   "cell_type": "code",
   "execution_count": null,
   "metadata": {},
   "outputs": [],
   "source": [
    "def comprueba_jugada(jugada, solución):\n",
    "    negras, blancas = 0, 0\n",
    "    for i in range(len(jugada)):\n",
    "        negras = negras + 1 if (jugada[i] == solución[i]) else negras\n",
    "        blancas = blancas + 1 if (jugada[i] != solución[i]) and (jugada[i] in solucion) else blancas\n",
    "    return negras, blancas"
   ]
  },
  {
   "cell_type": "code",
   "execution_count": null,
   "metadata": {},
   "outputs": [],
   "source": [
    "def play(cuantas, solucion):\n",
    "    terminar = False\n",
    "    while not terminar:\n",
    "        jugada = pedir_jugada(cuantas)\n",
    "        if jugada == 'exit':\n",
    "            terminar = True\n",
    "            print(\"Hasta pronto!!\")\n",
    "        else:\n",
    "            jugada = [int(n) for n in jugada]\n",
    "            negras, blancas = comprueba_jugada(jugada, solucion)\n",
    "            if negras == cuantas:\n",
    "                terminar = True\n",
    "                print(\"Enhorabuena, has ganado!\", jugada)\n",
    "            else:\n",
    "                print(jugada, \"negras:\", negras, \"blancas:\", blancas)"
   ]
  },
  {
   "cell_type": "code",
   "execution_count": null,
   "metadata": {},
   "outputs": [],
   "source": [
    "cuantas = dificultad()\n",
    "solucion = [random.randint(0,9) for _ in range(cuantas)]\n",
    "play(cuantas, solucion)"
   ]
  },
  {
   "cell_type": "code",
   "execution_count": null,
   "metadata": {},
   "outputs": [],
   "source": []
  }
 ],
 "metadata": {
  "kernelspec": {
   "display_name": "Python 3",
   "language": "python",
   "name": "python3"
  },
  "language_info": {
   "codemirror_mode": {
    "name": "ipython",
    "version": 3
   },
   "file_extension": ".py",
   "mimetype": "text/x-python",
   "name": "python",
   "nbconvert_exporter": "python",
   "pygments_lexer": "ipython3",
   "version": "3.7.4"
  }
 },
 "nbformat": 4,
 "nbformat_minor": 4
}
