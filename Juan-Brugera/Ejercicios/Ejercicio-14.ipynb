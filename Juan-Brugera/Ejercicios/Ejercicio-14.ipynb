{
 "cells": [
  {
   "cell_type": "markdown",
   "metadata": {},
   "source": [
    "# Ejercicio 14\n",
    "\n",
    "## Enunciado\n",
    "Crea un programa que:\n",
    "\n",
    "1. Obtenga los datos acerca del COVID-19 de [esta enlance](https://covid19.isciii.es/resources/serie_historica_acumulados.csv).\n",
    "2. Cree una gráfica con el total de casos acumulados en tu comunidad autónoma a nivel diarío de color **rojo**.\n",
    "\n",
    "## Extra\n",
    "3. Añada a la gráfica el total diario de España en color **azul**."
   ]
  },
  {
   "cell_type": "markdown",
   "metadata": {},
   "source": [
    "### ¿Qué cosas nuevas necesitamos saber?\n",
    "- Iterando sobre objetos. Las funciones **map()** y **filter()**.\n",
    "- Uso de fechas. El tipo **datetime()**.\n",
    "- Visualización de datos. La librería **matplotlib**."
   ]
  },
  {
   "cell_type": "markdown",
   "metadata": {},
   "source": [
    "### Iterando sobre objetos. Las funciones **map()** y **filter()**."
   ]
  },
  {
   "cell_type": "markdown",
   "metadata": {},
   "source": [
    "La función **map()** es aquella que dada una función y una colección de objetos, aplica esa función a cada elemento de la colección.\n",
    "\n",
    "No obstante, la función map no devuelve los resultados, si no que devueleve un iterador. Para obtener los resultados, deberemos de iterar sobre el iterador (valga la redundancia).\n",
    "\n",
    "Veamos unos ejemlos:"
   ]
  },
  {
   "cell_type": "code",
   "execution_count": null,
   "metadata": {},
   "outputs": [],
   "source": [
    "numeros = [0, 1, 2, 3, 4, 5, 6, 7, 8, 9, 10] # definimos nuestra lista de ejemplo"
   ]
  },
  {
   "cell_type": "code",
   "execution_count": null,
   "metadata": {},
   "outputs": [],
   "source": [
    "# y la función cuadrado, que dado un número, nos devuelve ese número al cuadrado\n",
    "def cuadrado(n):\n",
    "    return n*n"
   ]
  },
  {
   "cell_type": "code",
   "execution_count": null,
   "metadata": {},
   "outputs": [],
   "source": [
    "# nos ayudamos de la función map para aplicar la función a todos los elementos\n",
    "numeros_al_cuadrado = map(cuadrado, numeros)"
   ]
  },
  {
   "cell_type": "code",
   "execution_count": null,
   "metadata": {},
   "outputs": [],
   "source": [
    "# como hemos comentado, esto no nos muestra los números, ya que para ello hemos de iterar sobre el resultado\n",
    "print(numeros_al_cuadrado)"
   ]
  },
  {
   "cell_type": "code",
   "execution_count": null,
   "metadata": {},
   "outputs": [],
   "source": [
    "# esto, en cambio, si lo hace\n",
    "for numero in numeros_al_cuadrado:\n",
    "    print(numero)"
   ]
  },
  {
   "cell_type": "markdown",
   "metadata": {},
   "source": [
    "Este comportamiento se debe a que la función map no calcula el resultado de aplicar la función a cada elemento de la colección hasta que no le es necesario hacerlo."
   ]
  },
  {
   "cell_type": "code",
   "execution_count": null,
   "metadata": {},
   "outputs": [],
   "source": [
    "# si necesitamos tener los datos calculados por algo en especial, podemos hacer lo siguiente\n",
    "numeros_al_cuadrado = list(map(cuadrado, numeros)) # usamos la conversión a list para que calcule cada elemento\n",
    "print(numeros_al_cuadrado)"
   ]
  },
  {
   "cell_type": "markdown",
   "metadata": {},
   "source": [
    "La función **filter()** es aquella que dada una función que devuelve un **bool** y una colección de objetos, filtra la colección para aquellos elementos cuya evaluación de la función es True.\n",
    "\n",
    "De igual manera que sucede con **map()**, necesitaremos iterar sobre el resultado para comprobar el resultado."
   ]
  },
  {
   "cell_type": "markdown",
   "metadata": {},
   "source": [
    "Eso es todo a por hoy, a por ello!"
   ]
  },
  {
   "cell_type": "code",
   "execution_count": null,
   "metadata": {},
   "outputs": [],
   "source": [
    "def es_par(n):\n",
    "    return n % 2 == 0"
   ]
  },
  {
   "cell_type": "code",
   "execution_count": null,
   "metadata": {},
   "outputs": [],
   "source": [
    "pares = filter(es_par, numeros)"
   ]
  },
  {
   "cell_type": "code",
   "execution_count": null,
   "metadata": {},
   "outputs": [],
   "source": [
    "print(pares)"
   ]
  },
  {
   "cell_type": "code",
   "execution_count": null,
   "metadata": {},
   "outputs": [],
   "source": [
    "for numero in pares:\n",
    "    print(numero)"
   ]
  },
  {
   "cell_type": "markdown",
   "metadata": {},
   "source": [
    "Hay que tener en cuenta que, en ambos casos, una vez terminada la iteración, no quedan elementos los que aplicar la función, por lo que si queremos hacer uso del elemento que hemos creado, habrá que calcularlo de nuevo.\n",
    "\n",
    "Ilustremos esto:"
   ]
  },
  {
   "cell_type": "code",
   "execution_count": null,
   "metadata": {},
   "outputs": [],
   "source": [
    "# esto no va a hacer nada, porque ya imprimimos todos los pares antes\n",
    "for numero in pares:\n",
    "    print(numero)"
   ]
  },
  {
   "cell_type": "code",
   "execution_count": null,
   "metadata": {},
   "outputs": [],
   "source": [
    "# en cambio, si lo recalculamos, entonces si:\n",
    "pares = filter(es_par, numeros)\n",
    "for numero in pares:\n",
    "    print(numero)"
   ]
  },
  {
   "cell_type": "markdown",
   "metadata": {},
   "source": [
    "### Uso de fechas. El tipo **datetime()**.\n",
    "\n",
    "El tipo datetime() nos permite crear objetos referentes a momentos en el tiempo. Para poder utilizarla, debemos importarla desde la libreria con el mismo nombre.\n",
    "\n",
    "Podemos generar momento a partir del constructor de la clase o a partir de textos, veamos como:"
   ]
  },
  {
   "cell_type": "code",
   "execution_count": null,
   "metadata": {},
   "outputs": [],
   "source": [
    "# primero importamos la librería\n",
    "from datetime import datetime"
   ]
  },
  {
   "cell_type": "code",
   "execution_count": null,
   "metadata": {},
   "outputs": [],
   "source": [
    "date1 = datetime(year=2020, month=4, day=5, hour=0, minute=0, second=0)\n",
    "date2 = datetime(year=2020, month=4, day=4)\n",
    "print(date1, date2)"
   ]
  },
  {
   "cell_type": "markdown",
   "metadata": {},
   "source": [
    "Los distintos parámetros de la clase los podéis encontrar [aquí](https://docs.python.org/3/library/datetime.html#datetime.datetime)."
   ]
  },
  {
   "cell_type": "markdown",
   "metadata": {},
   "source": [
    "Además, tambien podemos crear objetos del tipo **datetime()** a partir del tipo **str()**.\n",
    "\n",
    "Veamos como:"
   ]
  },
  {
   "cell_type": "code",
   "execution_count": null,
   "metadata": {},
   "outputs": [],
   "source": [
    "fecha_str = \"2020-06-30\"\n",
    "fecha = datetime.strptime(fecha_str, \"%Y-%m-%d\") # utilizamos la función strptime con el formato de nuestra fecha\n",
    "# para convertirlo a datetime\n",
    "print(type(fecha), fecha)"
   ]
  },
  {
   "cell_type": "markdown",
   "metadata": {},
   "source": [
    "En [este enlance](https://docs.python.org/3/library/datetime.html#strftime-strptime-behavior) podeís encontrar que simboliza cada % que se le pasa a la función strptime dentro del parámetro.\n",
    "\n",
    "En cualquier caso, veamos un par de ejemplos de conversión más:"
   ]
  },
  {
   "cell_type": "code",
   "execution_count": null,
   "metadata": {},
   "outputs": [],
   "source": [
    "print(datetime.strptime(\"2020-06-30\", \"%Y-%m-%d\"))\n",
    "print(datetime.strptime(\"2020-30-06\", \"%Y-%d-%m\"))\n",
    "print(datetime.strptime(\"2020/30/06\", \"%Y/%d/%m\"))\n",
    "print(datetime.strptime(\"2020/06/30 15:30\", \"%Y/%m/%d %H:%M\"))"
   ]
  },
  {
   "cell_type": "markdown",
   "metadata": {},
   "source": [
    "### Visualización de datos. La librería **matplotlib**.\n",
    "\n",
    "Antes de poder utilizar la librería **matplotlib** debemos instalarla. Para ello, el comando es el siguiente:\n",
    "```console\n",
    "pip install -U matplotlib\n",
    "```\n",
    "\n",
    "**NOTA**: Recuerda ejecutar la consola como administrador en el caso de Windows o preceder el comando de **sudo** en el caso de Linux/MacOS."
   ]
  },
  {
   "cell_type": "code",
   "execution_count": null,
   "metadata": {},
   "outputs": [],
   "source": [
    "# una vez instalada, realizaremos el siguiente import junto con la sentencia que vemos a continuación\n",
    "# para poder visualizar nuestros datos en el propio notebook\n",
    "from matplotlib import pyplot as plt\n",
    "%matplotlib inline"
   ]
  },
  {
   "cell_type": "markdown",
   "metadata": {},
   "source": [
    "Antes de comenzar, supongamos que queremos estudiar la rentabilidad de nuestro último móvil. Para ello veremos lo que nos habrá costado el movil cada día en función del tiempo que lo hayamos tenido. Para ello supondremos que el móvil nos costó 600 euros hace exactamente 730 días."
   ]
  },
  {
   "cell_type": "code",
   "execution_count": null,
   "metadata": {},
   "outputs": [],
   "source": [
    "precio = 600\n",
    "dias_de_uso = 730"
   ]
  },
  {
   "cell_type": "code",
   "execution_count": null,
   "metadata": {},
   "outputs": [],
   "source": [
    "# ahora crearemos los valores de los ejes X e Y\n",
    "x = range(1, dias_de_uso + 1) # para conocer el día que estamos utilizando como referencia\n",
    "y = [precio/dias for dias in x] # para calcular lo que nos ha costado el movil al día en función de los días que lo hemos usado"
   ]
  },
  {
   "cell_type": "code",
   "execution_count": null,
   "metadata": {},
   "outputs": [],
   "source": [
    "# una vez creados nuestros datos, los mostraremos visualmente\n",
    "plt.figure(figsize=(13, 6)) # con esto determinamos el tamaño de nuestro gráfico\n",
    "plt.title(\"Curva de amortización de un móvil de 600 €\") # con esto añadimos título a nuestro gráfico\n",
    "plt.plot(x,y) # así añadimos los valores\n",
    "plt.show() # así mostramos el gráfico"
   ]
  },
  {
   "cell_type": "code",
   "execution_count": null,
   "metadata": {},
   "outputs": [],
   "source": [
    "# Como podemos comprobar, debido a las escalas de los datos, apenas apreciamos nada\n",
    "# modifiquemos la escala del eje X para que en vez de ir de 1 en 1, vaya en potencias de 10\n",
    "plt.figure(figsize=(13, 6)) \n",
    "plt.title(\"Curva de amortización de un móvil de 600 €\")\n",
    "plt.plot(x,y) \n",
    "plt.xscale('log') # así ponemos nuestro gráfico en escala logarítmica\n",
    "plt.show()"
   ]
  },
  {
   "cell_type": "markdown",
   "metadata": {},
   "source": [
    "Como podemos comprobar, ahora observamos mucho mejor que la mayor amotización se realiza entre los días 1 y 10, ya que el precio por día pasa de 600 euros al día (1 día) a 60 euros al día (10 días).\n",
    "\n",
    "Podríamos ademas conocer la estimación del próximo año calculando los valores y añadiéndolos a nuestro gráfico en un color distinto.\n",
    "\n",
    "Veamos como:"
   ]
  },
  {
   "cell_type": "code",
   "execution_count": null,
   "metadata": {},
   "outputs": [],
   "source": [
    "x2 = range(dias_de_uso + 1, dias_de_uso + 365 + 1)\n",
    "y2 = [precio/dias for dias in x2]"
   ]
  },
  {
   "cell_type": "code",
   "execution_count": null,
   "metadata": {},
   "outputs": [],
   "source": [
    "# en vez de imprimir todos los valores de x e y, para poder obtener mayor detalle visual, imprimiremos solo los 100 últimos\n",
    "plt.figure(figsize=(13, 6)) \n",
    "plt.title(\"Curva de amortización de un móvil de 600 €\")\n",
    "plt.plot(x[-100:],y[-100:], color='blue', label='pasado') # añadimos la primera parte con color azul y etiquetada como pasado\n",
    "plt.plot(x2, y2, color='red', label='futuro')  # y la segunda de rojo como futuro\n",
    "plt.legend() # con esto añadimos la leyenda con los valores de label\n",
    "plt.xlabel(\"Días transcurridos\") # y así añadimos etiquetas a los ejes\n",
    "plt.ylabel(\"Precio por día\") # y así añadimos etiquetas a los ejes\n",
    "plt.show()"
   ]
  },
  {
   "cell_type": "markdown",
   "metadata": {},
   "source": [
    "Eso es todo, a por el ejercicio!"
   ]
  },
  {
   "cell_type": "markdown",
   "metadata": {},
   "source": [
    "## Solución"
   ]
  },
  {
   "cell_type": "code",
   "execution_count": null,
   "metadata": {},
   "outputs": [],
   "source": [
    "from matplotlib import pyplot as plt\n",
    "%matplotlib inline\n",
    "\n",
    "import requests\n",
    "from bs4 import BeautifulSoup\n",
    "\n",
    "from datetime import datetime\n",
    "\n",
    "# Códigos ISO de las Comunidades Autónomas. Madrid = MD\n",
    "# ISO | FECHA | CASOS | HOSPITALIZADOS | UCI | FALLECIDOS | RECUPERADOS\n",
    "URL = \"https://covid19.isciii.es/resources/serie_historica_acumulados.csv\""
   ]
  },
  {
   "cell_type": "code",
   "execution_count": null,
   "metadata": {},
   "outputs": [],
   "source": [
    "def es_madrid(lista):\n",
    "    return lista.split(',')[0] == 'MD'\n",
    "\n",
    "def divide(string):\n",
    "    return string.split(',')\n",
    "\n",
    "def convierte_fechas(fila):\n",
    "    return datetime.strptime(fila[1], \"%d/%m/%Y\")\n",
    "\n",
    "def convierte_casos(fila):\n",
    "    if fila[2] == '':\n",
    "        return 0\n",
    "    else:\n",
    "        return int(fila[2])\n",
    "\n",
    "def suma_casos(lista_casos):\n",
    "    acumulados = {}\n",
    "    for item in lista_casos:\n",
    "        cantidad = 0\n",
    "        if item[1] in acumulados:\n",
    "            if item[2] == \"\":\n",
    "                item[2] = \"0\"\n",
    "            cantidad = int(acumulados.get(item[1])) + int(item[2])\n",
    "            acumulados[item[1]] = cantidad\n",
    "            # print(f'Se acumulan {item[2]} a {item[1]} (de {item[0]}). Hay {acumulados[item[1]]}')\n",
    "        else:\n",
    "            acumulados[item[1]] = 0\n",
    "            # print(f'Se añade {item[1]}')\n",
    "    return list(acumulados.values())"
   ]
  },
  {
   "cell_type": "code",
   "execution_count": null,
   "metadata": {},
   "outputs": [],
   "source": [
    "req = requests.get(URL)\n",
    "raw = req.text\n",
    "\n",
    "lista_raw = raw.splitlines()[1:-2]"
   ]
  },
  {
   "cell_type": "code",
   "execution_count": null,
   "metadata": {},
   "outputs": [],
   "source": [
    "madrid = filter(es_madrid, lista_raw)\n",
    "madrid_list = list(map(divide, madrid))"
   ]
  },
  {
   "cell_type": "code",
   "execution_count": null,
   "metadata": {},
   "outputs": [],
   "source": [
    "esp_list = list(map(divide, lista_raw))\n",
    "casos_ES = suma_casos(esp_list)"
   ]
  },
  {
   "cell_type": "code",
   "execution_count": null,
   "metadata": {},
   "outputs": [],
   "source": [
    "fechas = list(map(convierte_fechas, madrid_list))\n",
    "casos_MD = list(map(convierte_casos, madrid_list))"
   ]
  },
  {
   "cell_type": "code",
   "execution_count": null,
   "metadata": {},
   "outputs": [],
   "source": [
    "plt.figure(figsize = (13, 6))\n",
    "plt.title(\"Curva de casos de Coronavirus en Madrid y España\")\n",
    "plt.plot(fechas, casos_MD, color = 'red', label = 'Madrid')\n",
    "plt.xlabel(\"Fecha\")\n",
    "plt.ylabel(\"Casos\")\n",
    "plt.plot(fechas, casos_ES, color = 'blue', label = 'España')\n",
    "plt.legend()\n",
    "plt.show()"
   ]
  }
 ],
 "metadata": {
  "kernelspec": {
   "display_name": "Python 3",
   "language": "python",
   "name": "python3"
  },
  "language_info": {
   "codemirror_mode": {
    "name": "ipython",
    "version": 3
   },
   "file_extension": ".py",
   "mimetype": "text/x-python",
   "name": "python",
   "nbconvert_exporter": "python",
   "pygments_lexer": "ipython3",
   "version": "3.7.6"
  }
 },
 "nbformat": 4,
 "nbformat_minor": 4
}
