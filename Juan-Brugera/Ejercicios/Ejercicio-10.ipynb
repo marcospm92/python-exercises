{
 "cells": [
  {
   "cell_type": "markdown",
   "metadata": {},
   "source": [
    "# Ejercicio 10\n",
    "\n",
    "## Enunciado\n",
    "Crea un programa que:\n",
    "\n",
    "1. Pregunte al usuario un número **natural** n y devuelva una lista con los n primeros números de la sucesión de *Fibonacci*.\n",
    "\n",
    "### Aclaraciones\n",
    "\n",
    "1. La sucesión de *Fibonacci* es la secuencia de números que se genera siendo el valor de la posición p la suma de las posiciones p-1 y p-2.\n",
    "2. Las posiciones p=1 y p=2 toman el valor 1.\n",
    "\n",
    "### Ejemplos de lo que se nos solicita:\n",
    "1. *Fibonacci(1)* = [1]\n",
    "2. *Fibonacci(2)* = [1, 1]\n",
    "3. *Fibonacci(5)* = [1, 1, 2, 3, 5]\n",
    "4. *Fibonacci(10)* = [1, 1, 2, 3, 5, 8, 13, 21, 34, 55]"
   ]
  },
  {
   "cell_type": "markdown",
   "metadata": {},
   "source": [
    "### ¿Qué cosas nuevas necesitamos saber?\n",
    "1. Implementación de funciones recursivas."
   ]
  },
  {
   "cell_type": "markdown",
   "metadata": {},
   "source": [
    "### Implementación de funciones recursivas.\n",
    "\n",
    "Las funciones recursivas son aquellas funciones que se llaman a si mismas ya que por lo general, el resultado de la función depende de un valor previamente generado para ella misma.\n",
    "\n",
    "Todas ellas, necesitan una condición de parada (aunque puede existir más de una) también conocida(s) como caso(s) base(s).\n",
    "\n",
    "De manera adicional, es probable que para muchas de ellas necesitemos un elemento a modo de acumulador para devolver el resultado.\n",
    "\n",
    "El código \"estándar\" suele tener la siguiente forma:\n",
    "```python\n",
    "def mi_funcion_recursiva(p1, ...):\n",
    "    if p1 == caso_base:\n",
    "        return resultado_caso_base\n",
    "    elif ... :\n",
    "        ...\n",
    "    else:\n",
    "        return mi_funcion_recursiva(p1_actualizado) + valor_para_p1\n",
    "```\n",
    "\n",
    "Veamos un par de ejemplos:"
   ]
  },
  {
   "cell_type": "code",
   "execution_count": null,
   "metadata": {},
   "outputs": [],
   "source": [
    "# importemos nuestra librería para simplificar nuestro código\n",
    "from mislibrerias import entradas"
   ]
  },
  {
   "cell_type": "code",
   "execution_count": null,
   "metadata": {},
   "outputs": [],
   "source": [
    "# vamos a crear una función recursiva que, dado un número natural ó 0, calcule el sumatorio de todos los números\n",
    "# entre 0 y ese número\n",
    "def sumatorio(n):\n",
    "    if n == 0: # como nuesta función consiste en sumar todos los números entre 0 y n, cuando n valga 0 pararemos\n",
    "        return n # y como estamos sumando los numeros como tal, devolveremos el propio 0 (n == 0)\n",
    "    else: # si el número no es 0\n",
    "        return sumatorio(n-1) + n # devolveremos la suma de n mas el sumatorio de los anteriores"
   ]
  },
  {
   "cell_type": "code",
   "execution_count": null,
   "metadata": {},
   "outputs": [],
   "source": [
    "# comprobemos que nuestra funcion es correcta\n",
    "print(sumatorio(0)) # esto devuelve 0, ya que la suma de 0 es 0\n",
    "print(sumatorio(5)) # esto devuelve 15, ya que 5+4+3+2+1+0 es 15\n",
    "print(sumatorio(10)) # esto devuelve 55, ya que la 10+9+8+7+6+5+4+3+2+1 es 55"
   ]
  },
  {
   "cell_type": "code",
   "execution_count": null,
   "metadata": {},
   "outputs": [],
   "source": [
    "# simulemos el uso de la función en un programa\n",
    "numero = entradas.get_int(\"Dime un número natural: \")\n",
    "print(\"La suma de todos los números entre 0 y\", numero, \"es\", sumatorio(numero))"
   ]
  },
  {
   "cell_type": "code",
   "execution_count": null,
   "metadata": {},
   "outputs": [],
   "source": [
    "# ahora, vamos a crear una función recursiva que dado un número, devuelva una lista con todos los números pares\n",
    "# entre 0 y el número. Recordad que podemos ayudarnos de otras funciones para hacerlo, por ejemplo:\n",
    "\n",
    "def es_par(n):\n",
    "    return n % 2 == 0\n",
    "\n",
    "# como necesitamos devolver una colección de objetos, a parte del número en cuestión a evaluar, necesitamos\n",
    "# la lista dónde ir incluyendo los números pares y pasarlos al siguiente nivel\n",
    "def lista_pares_recursiva(n, lista):\n",
    "    if n == 0:\n",
    "        lista.append(n)\n",
    "        return lista\n",
    "    else:\n",
    "        if es_par(n): # si el numero es par...\n",
    "            lista.append(n) # lo añadimos a la lista\n",
    "        return lista_pares_recursiva(n-1, lista) # esto se hace fuera del if, ya que hay que evaluar todos los números"
   ]
  },
  {
   "cell_type": "code",
   "execution_count": null,
   "metadata": {},
   "outputs": [],
   "source": [
    "# comprobemos el correcto funcionamiento\n",
    "# pasamos [] como segundo parámetro ya que antes de nuestra ejecución la lista ha de estar vacía.\n",
    "print(lista_pares_recursiva(10, [])) # esto imprime [10, 8, 6, 4, 2, 0]\n",
    "print(lista_pares_recursiva(0, [])) # esto imprime [0]"
   ]
  },
  {
   "cell_type": "code",
   "execution_count": null,
   "metadata": {},
   "outputs": [],
   "source": [
    "# simulemos el uso de la función en un programa\n",
    "numero = entradas.get_int(\"Dime un número natural: \")\n",
    "print(\"Los números pares entre 0 y\", numero, \"es\", lista_pares_recursiva(numero, []))"
   ]
  },
  {
   "cell_type": "code",
   "execution_count": null,
   "metadata": {},
   "outputs": [],
   "source": [
    "# por último, creemos una función recursiva con más de un caso base\n",
    "# en este caso devolveremos todos los números pares con una condición especial:\n",
    "# si el número es mayor o igual a 15, los números pares entre 15 y el número,\n",
    "# si no lo es, entre 0 y el número\n",
    "\n",
    "def lista_pares_stop_recursiva(n, lista):\n",
    "    if n == 0:\n",
    "        lista.append(n)\n",
    "        return lista\n",
    "    elif n == 15:\n",
    "        return lista # en este caso, como 15 es impar, no lo añadimos\n",
    "    else:\n",
    "        if es_par(n): # si el numero es par...\n",
    "            lista.append(n) # lo añadimos a la lista\n",
    "        return lista_pares_stop_recursiva(n-1, lista) # esto se hace fuera del if, ya que hay que evaluar todos los números"
   ]
  },
  {
   "cell_type": "code",
   "execution_count": null,
   "metadata": {},
   "outputs": [],
   "source": [
    "# comprobémoslos\n",
    "print(lista_pares_stop_recursiva(10, []))\n",
    "print(lista_pares_stop_recursiva(20, []))"
   ]
  },
  {
   "cell_type": "markdown",
   "metadata": {},
   "source": [
    "Es es todo, a por ello!"
   ]
  },
  {
   "cell_type": "markdown",
   "metadata": {},
   "source": [
    "## Solución"
   ]
  },
  {
   "cell_type": "markdown",
   "metadata": {},
   "source": [
    "1. Define la función *fibonacci(...)* con todos los parámetros que te hagan fatal. Los casos base que has de definir están indicados en el alguna parte de este notebook.\n",
    "\n",
    "**RECUERDA**:\n",
    "- Puedes acceder a las dos útlimas posiciones de una lista con los índices -1 y -2.\n",
    "- La función append() de las listas devuelve un None."
   ]
  },
  {
   "cell_type": "code",
   "execution_count": null,
   "metadata": {},
   "outputs": [],
   "source": [
    "from mislibrerias import entradas\n",
    "def fibonacci(n, lista, fin):\n",
    "    if n == 0:\n",
    "        lista.append(1)\n",
    "        if n != fin:\n",
    "            return fibonacci(n+1, lista, fin)\n",
    "        else:\n",
    "            return lista\n",
    "    elif n == 1:\n",
    "        lista.append(1)\n",
    "        if n != fin:\n",
    "            return fibonacci(n+1, lista, fin)\n",
    "        else:\n",
    "            return lista\n",
    "    else:\n",
    "        res = lista[-1] + lista[-2]\n",
    "        lista.append(res)\n",
    "        if n != fin:\n",
    "            return fibonacci(n+1, lista, fin)\n",
    "        else:\n",
    "            return lista"
   ]
  },
  {
   "cell_type": "markdown",
   "metadata": {},
   "source": [
    "2. Pídele al usuario cuántos números de la sucesión quiere conocer."
   ]
  },
  {
   "cell_type": "code",
   "execution_count": null,
   "metadata": {},
   "outputs": [],
   "source": [
    "numero = entradas.get_int(\"Cuántos números quieres conocer?: \")"
   ]
  },
  {
   "cell_type": "markdown",
   "metadata": {},
   "source": [
    "3. Calcúlalos e indícale el resultado."
   ]
  },
  {
   "cell_type": "code",
   "execution_count": null,
   "metadata": {},
   "outputs": [],
   "source": [
    "print(fibonacci(0, [], numero-1))"
   ]
  }
 ],
 "metadata": {
  "kernelspec": {
   "display_name": "Python 3",
   "language": "python",
   "name": "python3"
  },
  "language_info": {
   "codemirror_mode": {
    "name": "ipython",
    "version": 3
   },
   "file_extension": ".py",
   "mimetype": "text/x-python",
   "name": "python",
   "nbconvert_exporter": "python",
   "pygments_lexer": "ipython3",
   "version": "3.7.6"
  }
 },
 "nbformat": 4,
 "nbformat_minor": 4
}
